{
 "cells": [
  {
   "cell_type": "markdown",
   "metadata": {},
   "source": [
    "# HeatMaps\n",
    "#### Generate heatmaps using the population census and school enrollment numbers\n",
    "#### author : suchita mujumdar"
   ]
  },
  {
   "cell_type": "code",
   "execution_count": 1,
   "metadata": {},
   "outputs": [],
   "source": [
    "# Dependencies\n",
    "#https://github.com/datamade/census\n",
    "from census import Census\n",
    "from keys import censusKey\n",
    "from keys import googleKey\n",
    "\n",
    "import gmaps\n",
    "import numpy as np\n",
    "import pandas as pd\n",
    "import requests\n",
    "import time\n",
    "from us import states\n"
   ]
  },
  {
   "cell_type": "code",
   "execution_count": 2,
   "metadata": {},
   "outputs": [],
   "source": [
    "df_full = pd.read_csv('csv_files/AustinSchools.csv')"
   ]
  },
  {
   "cell_type": "code",
   "execution_count": 3,
   "metadata": {},
   "outputs": [
    {
     "data": {
      "text/plain": [
       "Index(['Unnamed: 0', 'gsId', 'name', 'type', 'gradeRange', 'enrollment',\n",
       "       'gsRating', 'parentRating', 'city', 'state', 'districtId', 'district',\n",
       "       'districtNCESId', 'address', 'phone', 'fax', 'website', 'ncesId', 'lat',\n",
       "       'lon', 'schoolName', 'latitude', 'longitude', 'headOfficialName',\n",
       "       'freeAndReducedPriceLunch', 'idea', 'plan504',\n",
       "       'percentTeachersInFirstSecondYear', 'White, non-Hispanic',\n",
       "       'Black, non-Hispanic', 'Hispanic', 'Multiracial', 'Asian',\n",
       "       'Native American or Native Alaskan',\n",
       "       'Native Hawaiian or Other Pacific Islander'],\n",
       "      dtype='object')"
      ]
     },
     "execution_count": 3,
     "metadata": {},
     "output_type": "execute_result"
    }
   ],
   "source": [
    "df_full.columns"
   ]
  },
  {
   "cell_type": "markdown",
   "metadata": {},
   "source": [
    "#### Create a dataset with only the columns that we need"
   ]
  },
  {
   "cell_type": "code",
   "execution_count": 4,
   "metadata": {},
   "outputs": [
    {
     "data": {
      "text/html": [
       "<div>\n",
       "<style scoped>\n",
       "    .dataframe tbody tr th:only-of-type {\n",
       "        vertical-align: middle;\n",
       "    }\n",
       "\n",
       "    .dataframe tbody tr th {\n",
       "        vertical-align: top;\n",
       "    }\n",
       "\n",
       "    .dataframe thead th {\n",
       "        text-align: right;\n",
       "    }\n",
       "</style>\n",
       "<table border=\"1\" class=\"dataframe\">\n",
       "  <thead>\n",
       "    <tr style=\"text-align: right;\">\n",
       "      <th></th>\n",
       "      <th>schoolName</th>\n",
       "      <th>latitude</th>\n",
       "      <th>longitude</th>\n",
       "      <th>enrollment</th>\n",
       "      <th>type</th>\n",
       "    </tr>\n",
       "  </thead>\n",
       "  <tbody>\n",
       "    <tr>\n",
       "      <th>0</th>\n",
       "      <td>Blackshear Elementary School</td>\n",
       "      <td>30.266968</td>\n",
       "      <td>-97.722170</td>\n",
       "      <td>302.0</td>\n",
       "      <td>public</td>\n",
       "    </tr>\n",
       "    <tr>\n",
       "      <th>1</th>\n",
       "      <td>Bryker Woods Elementary School</td>\n",
       "      <td>30.304869</td>\n",
       "      <td>-97.750626</td>\n",
       "      <td>400.0</td>\n",
       "      <td>public</td>\n",
       "    </tr>\n",
       "    <tr>\n",
       "      <th>2</th>\n",
       "      <td>Casis Elementary School</td>\n",
       "      <td>30.304344</td>\n",
       "      <td>-97.765050</td>\n",
       "      <td>793.0</td>\n",
       "      <td>public</td>\n",
       "    </tr>\n",
       "    <tr>\n",
       "      <th>3</th>\n",
       "      <td>Maplewood Elementary School</td>\n",
       "      <td>30.293337</td>\n",
       "      <td>-97.714905</td>\n",
       "      <td>480.0</td>\n",
       "      <td>public</td>\n",
       "    </tr>\n",
       "    <tr>\n",
       "      <th>4</th>\n",
       "      <td>Mathews Elementary School</td>\n",
       "      <td>30.278215</td>\n",
       "      <td>-97.760796</td>\n",
       "      <td>425.0</td>\n",
       "      <td>public</td>\n",
       "    </tr>\n",
       "  </tbody>\n",
       "</table>\n",
       "</div>"
      ],
      "text/plain": [
       "                       schoolName   latitude  longitude  enrollment    type\n",
       "0    Blackshear Elementary School  30.266968 -97.722170       302.0  public\n",
       "1  Bryker Woods Elementary School  30.304869 -97.750626       400.0  public\n",
       "2         Casis Elementary School  30.304344 -97.765050       793.0  public\n",
       "3     Maplewood Elementary School  30.293337 -97.714905       480.0  public\n",
       "4       Mathews Elementary School  30.278215 -97.760796       425.0  public"
      ]
     },
     "execution_count": 4,
     "metadata": {},
     "output_type": "execute_result"
    }
   ],
   "source": [
    "df = df_full[['schoolName', 'latitude', 'longitude','enrollment','type']]\n",
    "df.head()"
   ]
  },
  {
   "cell_type": "code",
   "execution_count": 5,
   "metadata": {},
   "outputs": [
    {
     "data": {
      "text/plain": [
       "public     197\n",
       "private    100\n",
       "charter     52\n",
       "Name: type, dtype: int64"
      ]
     },
     "execution_count": 5,
     "metadata": {},
     "output_type": "execute_result"
    }
   ],
   "source": [
    "df['type'].value_counts()"
   ]
  },
  {
   "cell_type": "code",
   "execution_count": 6,
   "metadata": {},
   "outputs": [
    {
     "data": {
      "text/plain": [
       "schoolName     object\n",
       "latitude      float64\n",
       "longitude     float64\n",
       "enrollment    float64\n",
       "type           object\n",
       "dtype: object"
      ]
     },
     "execution_count": 6,
     "metadata": {},
     "output_type": "execute_result"
    }
   ],
   "source": [
    "df.dtypes"
   ]
  },
  {
   "cell_type": "code",
   "execution_count": 7,
   "metadata": {},
   "outputs": [
    {
     "data": {
      "text/plain": [
       "count     310.000000\n",
       "mean      568.248387\n",
       "std       490.360530\n",
       "min         0.000000\n",
       "25%       253.250000\n",
       "50%       508.500000\n",
       "75%       749.250000\n",
       "max      2912.000000\n",
       "Name: enrollment, dtype: float64"
      ]
     },
     "execution_count": 7,
     "metadata": {},
     "output_type": "execute_result"
    }
   ],
   "source": [
    "df[\"enrollment\"].describe()"
   ]
  },
  {
   "cell_type": "code",
   "execution_count": 8,
   "metadata": {},
   "outputs": [
    {
     "name": "stderr",
     "output_type": "stream",
     "text": [
      "/anaconda3/envs/projectOne/lib/python3.6/site-packages/ipykernel_launcher.py:2: SettingWithCopyWarning: \n",
      "A value is trying to be set on a copy of a slice from a DataFrame.\n",
      "Try using .loc[row_indexer,col_indexer] = value instead\n",
      "\n",
      "See the caveats in the documentation: http://pandas.pydata.org/pandas-docs/stable/indexing.html#indexing-view-versus-copy\n",
      "  \n"
     ]
    }
   ],
   "source": [
    "# Add in Percent enrollment (School enrollment / Total enrollment)\n",
    "df[\"Percent enrollment\"] = 100 * df[\"enrollment\"] / df[\"enrollment\"].sum()"
   ]
  },
  {
   "cell_type": "code",
   "execution_count": 9,
   "metadata": {},
   "outputs": [
    {
     "data": {
      "text/plain": [
       "count    310.000000\n",
       "mean       0.322581\n",
       "std        0.278366\n",
       "min        0.000000\n",
       "25%        0.143764\n",
       "50%        0.288663\n",
       "75%        0.425331\n",
       "max        1.653071\n",
       "Name: Percent enrollment, dtype: float64"
      ]
     },
     "execution_count": 9,
     "metadata": {},
     "output_type": "execute_result"
    }
   ],
   "source": [
    "df[\"Percent enrollment\"].describe()"
   ]
  },
  {
   "cell_type": "code",
   "execution_count": 10,
   "metadata": {},
   "outputs": [
    {
     "data": {
      "text/html": [
       "<div>\n",
       "<style scoped>\n",
       "    .dataframe tbody tr th:only-of-type {\n",
       "        vertical-align: middle;\n",
       "    }\n",
       "\n",
       "    .dataframe tbody tr th {\n",
       "        vertical-align: top;\n",
       "    }\n",
       "\n",
       "    .dataframe thead th {\n",
       "        text-align: right;\n",
       "    }\n",
       "</style>\n",
       "<table border=\"1\" class=\"dataframe\">\n",
       "  <thead>\n",
       "    <tr style=\"text-align: right;\">\n",
       "      <th></th>\n",
       "      <th>schoolName</th>\n",
       "      <th>latitude</th>\n",
       "      <th>longitude</th>\n",
       "      <th>enrollment</th>\n",
       "      <th>type</th>\n",
       "      <th>Percent enrollment</th>\n",
       "    </tr>\n",
       "  </thead>\n",
       "  <tbody>\n",
       "    <tr>\n",
       "      <th>0</th>\n",
       "      <td>Blackshear Elementary School</td>\n",
       "      <td>30.266968</td>\n",
       "      <td>-97.722170</td>\n",
       "      <td>302.0</td>\n",
       "      <td>public</td>\n",
       "      <td>0.171438</td>\n",
       "    </tr>\n",
       "    <tr>\n",
       "      <th>1</th>\n",
       "      <td>Bryker Woods Elementary School</td>\n",
       "      <td>30.304869</td>\n",
       "      <td>-97.750626</td>\n",
       "      <td>400.0</td>\n",
       "      <td>public</td>\n",
       "      <td>0.227070</td>\n",
       "    </tr>\n",
       "    <tr>\n",
       "      <th>2</th>\n",
       "      <td>Casis Elementary School</td>\n",
       "      <td>30.304344</td>\n",
       "      <td>-97.765050</td>\n",
       "      <td>793.0</td>\n",
       "      <td>public</td>\n",
       "      <td>0.450167</td>\n",
       "    </tr>\n",
       "    <tr>\n",
       "      <th>3</th>\n",
       "      <td>Maplewood Elementary School</td>\n",
       "      <td>30.293337</td>\n",
       "      <td>-97.714905</td>\n",
       "      <td>480.0</td>\n",
       "      <td>public</td>\n",
       "      <td>0.272484</td>\n",
       "    </tr>\n",
       "    <tr>\n",
       "      <th>4</th>\n",
       "      <td>Mathews Elementary School</td>\n",
       "      <td>30.278215</td>\n",
       "      <td>-97.760796</td>\n",
       "      <td>425.0</td>\n",
       "      <td>public</td>\n",
       "      <td>0.241262</td>\n",
       "    </tr>\n",
       "  </tbody>\n",
       "</table>\n",
       "</div>"
      ],
      "text/plain": [
       "                       schoolName   latitude  longitude  enrollment    type  \\\n",
       "0    Blackshear Elementary School  30.266968 -97.722170       302.0  public   \n",
       "1  Bryker Woods Elementary School  30.304869 -97.750626       400.0  public   \n",
       "2         Casis Elementary School  30.304344 -97.765050       793.0  public   \n",
       "3     Maplewood Elementary School  30.293337 -97.714905       480.0  public   \n",
       "4       Mathews Elementary School  30.278215 -97.760796       425.0  public   \n",
       "\n",
       "   Percent enrollment  \n",
       "0            0.171438  \n",
       "1            0.227070  \n",
       "2            0.450167  \n",
       "3            0.272484  \n",
       "4            0.241262  "
      ]
     },
     "execution_count": 10,
     "metadata": {},
     "output_type": "execute_result"
    }
   ],
   "source": [
    "df.head()"
   ]
  },
  {
   "cell_type": "code",
   "execution_count": 11,
   "metadata": {},
   "outputs": [],
   "source": [
    "# Configure gmaps\n",
    "gmaps.configure(api_key=googleKey.gkey)"
   ]
  },
  {
   "cell_type": "code",
   "execution_count": 12,
   "metadata": {},
   "outputs": [
    {
     "data": {
      "application/vnd.jupyter.widget-view+json": {
       "model_id": "436b0dca445f481296fd99caf2bc9b82",
       "version_major": 2,
       "version_minor": 0
      },
      "text/plain": [
       "Figure(layout=FigureLayout(border='1px solid black', height='1000px', padding='1px', width='1000px'))"
      ]
     },
     "metadata": {},
     "output_type": "display_data"
    }
   ],
   "source": [
    "figure_layout = {\n",
    "'width': '1000px',\n",
    "'height': '1000px',\n",
    "'border': '1px solid black',\n",
    "'padding': '1px'\n",
    "}\n",
    "fig = gmaps.figure(layout=figure_layout)\n",
    "fig"
   ]
  },
  {
   "cell_type": "code",
   "execution_count": 13,
   "metadata": {},
   "outputs": [
    {
     "data": {
      "application/vnd.jupyter.widget-view+json": {
       "model_id": "d9e2b823c98945cd87bedd3a813ca8d0",
       "version_major": 2,
       "version_minor": 0
      },
      "text/plain": [
       "Figure(layout=FigureLayout(border='1px solid black', height='1000px', padding='1px', width='1000px'))"
      ]
     },
     "metadata": {},
     "output_type": "display_data"
    }
   ],
   "source": [
    "fig = gmaps.figure(layout=figure_layout)\n",
    "public_schools = df[df['type'] == 'public']\n",
    "public_schools_locations = public_schools[['latitude', 'longitude']]\n",
    "public_schools_layer = gmaps.symbol_layer( public_schools_locations, \n",
    "    info_box_content=public_schools['schoolName'],\n",
    "    fill_color='red', stroke_color='red', scale=2)\n",
    "fig.add_layer(public_schools_layer)\n",
    "public_school_student_enrollment = gmaps.heatmap_layer(public_schools_locations,\n",
    "                        weights=public_schools['Percent enrollment'],\n",
    "                        max_intensity=1.7, point_radius=0.01,dissipating=False)\n",
    "\n",
    "fig.add_layer(public_school_student_enrollment)\n",
    "fig"
   ]
  },
  {
   "cell_type": "code",
   "execution_count": 17,
   "metadata": {},
   "outputs": [
    {
     "data": {
      "application/vnd.jupyter.widget-view+json": {
       "model_id": "cfa037d871d54f89b1be9e9f240ddb01",
       "version_major": 2,
       "version_minor": 0
      },
      "text/plain": [
       "Figure(layout=FigureLayout(border='1px solid black', height='1000px', padding='1px', width='1000px'))"
      ]
     },
     "metadata": {},
     "output_type": "display_data"
    }
   ],
   "source": [
    "fig2 = gmaps.figure(layout=figure_layout)\n",
    "private_schools = df[df['type'] == 'private']\n",
    "private_schools_locations = private_schools[['latitude', 'longitude']]\n",
    "private_schools_layer = gmaps.symbol_layer(private_schools_locations, \n",
    "    #info_box_content=private_schools['schoolName'], \n",
    "    fill_color='lime', stroke_color='red', scale=2)\n",
    "\n",
    "fig2.add_layer(private_schools_layer)\n",
    "private_school_student_enrollment = gmaps.heatmap_layer(private_schools_locations,\n",
    "                        weights=private_schools['Percent enrollment'],\n",
    "                        max_intensity=1.7, point_radius=0.01,dissipating=False)\n",
    "fig2.add_layer(private_school_student_enrollment)\n",
    "fig2"
   ]
  },
  {
   "cell_type": "code",
   "execution_count": 18,
   "metadata": {},
   "outputs": [
    {
     "data": {
      "application/vnd.jupyter.widget-view+json": {
       "model_id": "bec40614971a4230bd86e9f7c3d938fa",
       "version_major": 2,
       "version_minor": 0
      },
      "text/plain": [
       "Figure(layout=FigureLayout(border='1px solid black', height='1000px', padding='1px', width='1000px'))"
      ]
     },
     "metadata": {},
     "output_type": "display_data"
    }
   ],
   "source": [
    "fig3 = gmaps.figure(layout=figure_layout)\n",
    "charter_schools = df[df['type'] == 'charter']\n",
    "charter_schools_locations = charter_schools[['latitude', 'longitude']]\n",
    "charter_schools_layer = gmaps.symbol_layer(\n",
    "charter_schools_locations, fill_color='purple', stroke_color='purple', scale=2\n",
    ")\n",
    "fig3.add_layer(charter_schools_layer)\n",
    "charter_school_student_enrollment = gmaps.heatmap_layer(charter_schools_locations,\n",
    "                        weights=charter_schools['Percent enrollment'],\n",
    "                        max_intensity=1.7, point_radius=0.01,dissipating=False)\n",
    "fig3.add_layer(charter_school_student_enrollment)\n",
    "fig3"
   ]
  },
  {
   "cell_type": "markdown",
   "metadata": {},
   "source": [
    "#### Create a dataset for the total population in Austin in the different zip codes using the census API"
   ]
  },
  {
   "cell_type": "code",
   "execution_count": 19,
   "metadata": {},
   "outputs": [],
   "source": [
    "# Census API Key\n",
    "c = Census(censusKey.census_key, 2017)\n",
    "# Run Census Search to retrieve data on all zip codes (2013 ACS5 Census)\n",
    "# See: https://github.com/CommerceDataService/census-wrapper for library documentation\n",
    "# See: https://gist.github.com/afhaque/60558290d6efd892351c4b64e5c01e9b for labels\n",
    "# B01003_001E  Total Population\n",
    "\n",
    "census_data = c.acs5.get(('NAME',\"B01003_001E\"), {'for': 'zip code tabulation area:*'})\n"
   ]
  },
  {
   "cell_type": "code",
   "execution_count": 20,
   "metadata": {},
   "outputs": [],
   "source": [
    "# Convert to DataFrame\n",
    "census_pd = pd.DataFrame(census_data)"
   ]
  },
  {
   "cell_type": "code",
   "execution_count": 21,
   "metadata": {},
   "outputs": [],
   "source": [
    "# Column Reordering\n",
    "del(census_pd['NAME'])\n",
    "census_pd = census_pd.rename(columns={\"B01003_001E\": \"Population\",\n",
    "                                      \"zip code tabulation area\": \"Zipcode\"})"
   ]
  },
  {
   "cell_type": "code",
   "execution_count": 22,
   "metadata": {},
   "outputs": [],
   "source": [
    "census_pd[\"Zipcode\"] = pd.to_numeric(census_pd[\"Zipcode\"],errors='coerce')"
   ]
  },
  {
   "cell_type": "code",
   "execution_count": 23,
   "metadata": {},
   "outputs": [
    {
     "data": {
      "text/html": [
       "<div>\n",
       "<style scoped>\n",
       "    .dataframe tbody tr th:only-of-type {\n",
       "        vertical-align: middle;\n",
       "    }\n",
       "\n",
       "    .dataframe tbody tr th {\n",
       "        vertical-align: top;\n",
       "    }\n",
       "\n",
       "    .dataframe thead th {\n",
       "        text-align: right;\n",
       "    }\n",
       "</style>\n",
       "<table border=\"1\" class=\"dataframe\">\n",
       "  <thead>\n",
       "    <tr style=\"text-align: right;\">\n",
       "      <th></th>\n",
       "      <th>Population</th>\n",
       "      <th>Zipcode</th>\n",
       "    </tr>\n",
       "  </thead>\n",
       "  <tbody>\n",
       "    <tr>\n",
       "      <th>0</th>\n",
       "      <td>345.0</td>\n",
       "      <td>84306</td>\n",
       "    </tr>\n",
       "    <tr>\n",
       "      <th>1</th>\n",
       "      <td>421.0</td>\n",
       "      <td>84775</td>\n",
       "    </tr>\n",
       "    <tr>\n",
       "      <th>2</th>\n",
       "      <td>211.0</td>\n",
       "      <td>84762</td>\n",
       "    </tr>\n",
       "    <tr>\n",
       "      <th>3</th>\n",
       "      <td>203.0</td>\n",
       "      <td>84772</td>\n",
       "    </tr>\n",
       "    <tr>\n",
       "      <th>4</th>\n",
       "      <td>224.0</td>\n",
       "      <td>84781</td>\n",
       "    </tr>\n",
       "  </tbody>\n",
       "</table>\n",
       "</div>"
      ],
      "text/plain": [
       "   Population  Zipcode\n",
       "0       345.0    84306\n",
       "1       421.0    84775\n",
       "2       211.0    84762\n",
       "3       203.0    84772\n",
       "4       224.0    84781"
      ]
     },
     "execution_count": 23,
     "metadata": {},
     "output_type": "execute_result"
    }
   ],
   "source": [
    "census_pd.head()"
   ]
  },
  {
   "cell_type": "code",
   "execution_count": 24,
   "metadata": {},
   "outputs": [],
   "source": [
    "# All austin area zipcodes\n",
    "\n",
    "zipcodes = [78610, 78613, 78617, 78641, 78652, 78653, 78660, 78664, 78681, \n",
    "            78701, 78702, 78703, 78704, 78705, 78712, 78717, 78719, 78721, \n",
    "            78722, 78723, 78724, 78725, 78726, 78727, 78728, 78729, 78730,\n",
    "            78731, 78732, 78733, 78734, 78735, 78736, 78737, 78738, 78739,\n",
    "            78741, 78742, 78744, 78745, 78746, 78747, 78748, 78749, 78750, \n",
    "            78751, 78752, 78753, 78754, 78756, 78757, 78758, 78759]\n",
    "\n",
    "#Read more: http://www.city-data.com/zipmaps/Austin-Texas.html\n"
   ]
  },
  {
   "cell_type": "code",
   "execution_count": 25,
   "metadata": {},
   "outputs": [],
   "source": [
    "austin_pd = census_pd[census_pd['Zipcode'].isin(zipcodes)]"
   ]
  },
  {
   "cell_type": "code",
   "execution_count": 26,
   "metadata": {},
   "outputs": [
    {
     "data": {
      "text/html": [
       "<div>\n",
       "<style scoped>\n",
       "    .dataframe tbody tr th:only-of-type {\n",
       "        vertical-align: middle;\n",
       "    }\n",
       "\n",
       "    .dataframe tbody tr th {\n",
       "        vertical-align: top;\n",
       "    }\n",
       "\n",
       "    .dataframe thead th {\n",
       "        text-align: right;\n",
       "    }\n",
       "</style>\n",
       "<table border=\"1\" class=\"dataframe\">\n",
       "  <thead>\n",
       "    <tr style=\"text-align: right;\">\n",
       "      <th></th>\n",
       "      <th>index</th>\n",
       "      <th>Population</th>\n",
       "      <th>Zipcode</th>\n",
       "    </tr>\n",
       "  </thead>\n",
       "  <tbody>\n",
       "    <tr>\n",
       "      <th>0</th>\n",
       "      <td>171</td>\n",
       "      <td>17762.0</td>\n",
       "      <td>78732</td>\n",
       "    </tr>\n",
       "    <tr>\n",
       "      <th>1</th>\n",
       "      <td>174</td>\n",
       "      <td>845.0</td>\n",
       "      <td>78712</td>\n",
       "    </tr>\n",
       "    <tr>\n",
       "      <th>2</th>\n",
       "      <td>202</td>\n",
       "      <td>33075.0</td>\n",
       "      <td>78705</td>\n",
       "    </tr>\n",
       "    <tr>\n",
       "      <th>3</th>\n",
       "      <td>203</td>\n",
       "      <td>41847.0</td>\n",
       "      <td>78759</td>\n",
       "    </tr>\n",
       "    <tr>\n",
       "      <th>4</th>\n",
       "      <td>222</td>\n",
       "      <td>22876.0</td>\n",
       "      <td>78702</td>\n",
       "    </tr>\n",
       "  </tbody>\n",
       "</table>\n",
       "</div>"
      ],
      "text/plain": [
       "   index  Population  Zipcode\n",
       "0    171     17762.0    78732\n",
       "1    174       845.0    78712\n",
       "2    202     33075.0    78705\n",
       "3    203     41847.0    78759\n",
       "4    222     22876.0    78702"
      ]
     },
     "execution_count": 26,
     "metadata": {},
     "output_type": "execute_result"
    }
   ],
   "source": [
    "austin_pd = austin_pd.reset_index()\n",
    "austin_pd.head()"
   ]
  },
  {
   "cell_type": "code",
   "execution_count": 27,
   "metadata": {},
   "outputs": [
    {
     "data": {
      "text/html": [
       "<div>\n",
       "<style scoped>\n",
       "    .dataframe tbody tr th:only-of-type {\n",
       "        vertical-align: middle;\n",
       "    }\n",
       "\n",
       "    .dataframe tbody tr th {\n",
       "        vertical-align: top;\n",
       "    }\n",
       "\n",
       "    .dataframe thead th {\n",
       "        text-align: right;\n",
       "    }\n",
       "</style>\n",
       "<table border=\"1\" class=\"dataframe\">\n",
       "  <thead>\n",
       "    <tr style=\"text-align: right;\">\n",
       "      <th></th>\n",
       "      <th>Zipcode</th>\n",
       "      <th>Population</th>\n",
       "    </tr>\n",
       "  </thead>\n",
       "  <tbody>\n",
       "    <tr>\n",
       "      <th>0</th>\n",
       "      <td>78732</td>\n",
       "      <td>17762.0</td>\n",
       "    </tr>\n",
       "    <tr>\n",
       "      <th>1</th>\n",
       "      <td>78712</td>\n",
       "      <td>845.0</td>\n",
       "    </tr>\n",
       "    <tr>\n",
       "      <th>2</th>\n",
       "      <td>78705</td>\n",
       "      <td>33075.0</td>\n",
       "    </tr>\n",
       "    <tr>\n",
       "      <th>3</th>\n",
       "      <td>78759</td>\n",
       "      <td>41847.0</td>\n",
       "    </tr>\n",
       "    <tr>\n",
       "      <th>4</th>\n",
       "      <td>78702</td>\n",
       "      <td>22876.0</td>\n",
       "    </tr>\n",
       "  </tbody>\n",
       "</table>\n",
       "</div>"
      ],
      "text/plain": [
       "   Zipcode  Population\n",
       "0    78732     17762.0\n",
       "1    78712       845.0\n",
       "2    78705     33075.0\n",
       "3    78759     41847.0\n",
       "4    78702     22876.0"
      ]
     },
     "execution_count": 27,
     "metadata": {},
     "output_type": "execute_result"
    }
   ],
   "source": [
    "austin_pd = austin_pd[['Zipcode','Population']]\n",
    "austin_pd.head()"
   ]
  },
  {
   "cell_type": "markdown",
   "metadata": {},
   "source": [
    "#### Get all the zipcode coordinates from a csv\n"
   ]
  },
  {
   "cell_type": "code",
   "execution_count": 28,
   "metadata": {},
   "outputs": [],
   "source": [
    "allcoordinates_df = pd.read_csv('data/coordinates.csv')"
   ]
  },
  {
   "cell_type": "code",
   "execution_count": 29,
   "metadata": {},
   "outputs": [],
   "source": [
    "allcoordinates_df = allcoordinates_df.rename(columns={\"ZIP\":\"Zipcode\"})"
   ]
  },
  {
   "cell_type": "code",
   "execution_count": 32,
   "metadata": {},
   "outputs": [
    {
     "data": {
      "text/plain": [
       "Zipcode      int64\n",
       "LAT        float64\n",
       "LNG        float64\n",
       "dtype: object"
      ]
     },
     "execution_count": 32,
     "metadata": {},
     "output_type": "execute_result"
    }
   ],
   "source": [
    "allcoordinates_df.dtypes"
   ]
  },
  {
   "cell_type": "code",
   "execution_count": 33,
   "metadata": {},
   "outputs": [
    {
     "data": {
      "text/plain": [
       "Zipcode         int64\n",
       "Population    float64\n",
       "dtype: object"
      ]
     },
     "execution_count": 33,
     "metadata": {},
     "output_type": "execute_result"
    }
   ],
   "source": [
    "austin_pd.dtypes"
   ]
  },
  {
   "cell_type": "code",
   "execution_count": 34,
   "metadata": {},
   "outputs": [],
   "source": [
    "AustinZipCo_df = pd.merge(austin_pd, allcoordinates_df, on='Zipcode', how='inner')"
   ]
  },
  {
   "cell_type": "code",
   "execution_count": 35,
   "metadata": {},
   "outputs": [
    {
     "data": {
      "text/plain": [
       "Zipcode       78732.000000\n",
       "Population    17762.000000\n",
       "LAT              30.377889\n",
       "LNG             -97.895023\n",
       "Name: 0, dtype: float64"
      ]
     },
     "execution_count": 35,
     "metadata": {},
     "output_type": "execute_result"
    }
   ],
   "source": [
    "AustinZipCo_df.iloc[0]"
   ]
  },
  {
   "cell_type": "code",
   "execution_count": 36,
   "metadata": {},
   "outputs": [
    {
     "data": {
      "text/html": [
       "<div>\n",
       "<style scoped>\n",
       "    .dataframe tbody tr th:only-of-type {\n",
       "        vertical-align: middle;\n",
       "    }\n",
       "\n",
       "    .dataframe tbody tr th {\n",
       "        vertical-align: top;\n",
       "    }\n",
       "\n",
       "    .dataframe thead th {\n",
       "        text-align: right;\n",
       "    }\n",
       "</style>\n",
       "<table border=\"1\" class=\"dataframe\">\n",
       "  <thead>\n",
       "    <tr style=\"text-align: right;\">\n",
       "      <th></th>\n",
       "      <th>Zipcode</th>\n",
       "      <th>Population</th>\n",
       "      <th>LAT</th>\n",
       "      <th>LNG</th>\n",
       "    </tr>\n",
       "  </thead>\n",
       "  <tbody>\n",
       "    <tr>\n",
       "      <th>0</th>\n",
       "      <td>78732</td>\n",
       "      <td>17762.0</td>\n",
       "      <td>30.377889</td>\n",
       "      <td>-97.895023</td>\n",
       "    </tr>\n",
       "    <tr>\n",
       "      <th>1</th>\n",
       "      <td>78712</td>\n",
       "      <td>845.0</td>\n",
       "      <td>30.282173</td>\n",
       "      <td>-97.731003</td>\n",
       "    </tr>\n",
       "    <tr>\n",
       "      <th>2</th>\n",
       "      <td>78705</td>\n",
       "      <td>33075.0</td>\n",
       "      <td>30.294333</td>\n",
       "      <td>-97.738517</td>\n",
       "    </tr>\n",
       "    <tr>\n",
       "      <th>3</th>\n",
       "      <td>78759</td>\n",
       "      <td>41847.0</td>\n",
       "      <td>30.402665</td>\n",
       "      <td>-97.761062</td>\n",
       "    </tr>\n",
       "    <tr>\n",
       "      <th>4</th>\n",
       "      <td>78702</td>\n",
       "      <td>22876.0</td>\n",
       "      <td>30.263378</td>\n",
       "      <td>-97.714483</td>\n",
       "    </tr>\n",
       "  </tbody>\n",
       "</table>\n",
       "</div>"
      ],
      "text/plain": [
       "   Zipcode  Population        LAT        LNG\n",
       "0    78732     17762.0  30.377889 -97.895023\n",
       "1    78712       845.0  30.282173 -97.731003\n",
       "2    78705     33075.0  30.294333 -97.738517\n",
       "3    78759     41847.0  30.402665 -97.761062\n",
       "4    78702     22876.0  30.263378 -97.714483"
      ]
     },
     "execution_count": 36,
     "metadata": {},
     "output_type": "execute_result"
    }
   ],
   "source": [
    "AustinZipCo_df.head()"
   ]
  },
  {
   "cell_type": "code",
   "execution_count": 37,
   "metadata": {},
   "outputs": [],
   "source": [
    "# Add in Percent Population (Zipcode Population / Total Population)\n",
    "AustinZipCo_df[\"Percent Population\"] = 100 * \\\n",
    "    AustinZipCo_df[\"Population\"].astype(\n",
    "        int) / AustinZipCo_df[\"Population\"].sum()\n"
   ]
  },
  {
   "cell_type": "code",
   "execution_count": 38,
   "metadata": {},
   "outputs": [
    {
     "data": {
      "text/plain": [
       "count    53.000000\n",
       "mean      1.886792\n",
       "std       1.323600\n",
       "min       0.034500\n",
       "25%       0.997570\n",
       "50%       1.592082\n",
       "75%       2.499298\n",
       "max       5.702213\n",
       "Name: Percent Population, dtype: float64"
      ]
     },
     "execution_count": 38,
     "metadata": {},
     "output_type": "execute_result"
    }
   ],
   "source": [
    "AustinZipCo_df['Percent Population'].describe()"
   ]
  },
  {
   "cell_type": "code",
   "execution_count": 41,
   "metadata": {},
   "outputs": [],
   "source": [
    "AustinZipCo_df.to_csv(\"csv_files/AustinPopulation.csv\")"
   ]
  },
  {
   "cell_type": "markdown",
   "metadata": {},
   "source": [
    "#### A Heat Map for the population in Austin"
   ]
  },
  {
   "cell_type": "code",
   "execution_count": 39,
   "metadata": {},
   "outputs": [],
   "source": [
    "# Store 'Lat' and 'Lng' into  locations \n",
    "locations = AustinZipCo_df[[\"LAT\", \"LNG\"]].astype(float)\n",
    "\n",
    "# Convert Population to float and store\n",
    "# HINT: be sure to handle NaN values\n",
    "population = AustinZipCo_df[\"Percent Population\"].astype(float)"
   ]
  },
  {
   "cell_type": "code",
   "execution_count": 40,
   "metadata": {},
   "outputs": [
    {
     "data": {
      "application/vnd.jupyter.widget-view+json": {
       "model_id": "89612fcc4fb94afebc11f4c6ac61ebb2",
       "version_major": 2,
       "version_minor": 0
      },
      "text/plain": [
       "Figure(layout=FigureLayout(border='1px solid black', height='1000px', padding='1px', width='1000px'))"
      ]
     },
     "metadata": {},
     "output_type": "display_data"
    }
   ],
   "source": [
    "fig4 = gmaps.figure(layout=figure_layout)\n",
    "population_layer = gmaps.heatmap_layer(locations, weights=population, \n",
    "                                 dissipating=False, max_intensity=6,\n",
    "                                 point_radius = 0.05)\n",
    "\n",
    "fig4.add_layer(population_layer)\n",
    "\n",
    "fig4"
   ]
  },
  {
   "cell_type": "code",
   "execution_count": null,
   "metadata": {},
   "outputs": [],
   "source": [
    "help(gmaps.figure)"
   ]
  },
  {
   "cell_type": "code",
   "execution_count": null,
   "metadata": {},
   "outputs": [],
   "source": []
  },
  {
   "cell_type": "code",
   "execution_count": null,
   "metadata": {},
   "outputs": [],
   "source": []
  }
 ],
 "metadata": {
  "kernelspec": {
   "display_name": "Python(projectOne)",
   "language": "python",
   "name": "projectone"
  },
  "language_info": {
   "codemirror_mode": {
    "name": "ipython",
    "version": 3
   },
   "file_extension": ".py",
   "mimetype": "text/x-python",
   "name": "python",
   "nbconvert_exporter": "python",
   "pygments_lexer": "ipython3",
   "version": "3.6.7"
  }
 },
 "nbformat": 4,
 "nbformat_minor": 2
}
