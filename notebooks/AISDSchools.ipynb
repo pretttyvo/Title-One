{
 "cells": [
  {
   "cell_type": "markdown",
   "metadata": {},
   "source": [
    "# AISDSchools\n",
    "#### Create the csv with schools in Austin ISD\n",
    "#### author : suchita mujumdar"
   ]
  },
  {
   "cell_type": "code",
   "execution_count": 23,
   "metadata": {},
   "outputs": [],
   "source": [
    "# Dependencies\n",
    "from census import Census\n",
    "from keys import api_keys\n",
    "from keys import config\n",
    "import gmaps\n",
    "import numpy as np\n",
    "import pandas as pd\n",
    "import requests\n",
    "import time\n",
    "from us import states\n"
   ]
  },
  {
   "cell_type": "code",
   "execution_count": 32,
   "metadata": {},
   "outputs": [],
   "source": [
    "df = pd.read_csv('csv_files/AustinSchools.csv')"
   ]
  },
  {
   "cell_type": "code",
   "execution_count": 45,
   "metadata": {},
   "outputs": [],
   "source": [
    "df_aisd = df[df['district']=='Austin Independent School District'].reset_index()\n",
    "del[df_aisd['index']]\n",
    "del[df_aisd['Unnamed: 0']]"
   ]
  },
  {
   "cell_type": "code",
   "execution_count": 46,
   "metadata": {},
   "outputs": [
    {
     "data": {
      "text/plain": [
       "gsId                                                                               527\n",
       "name                                                      Blackshear Elementary School\n",
       "type                                                                            public\n",
       "gradeRange                                                                        PK-5\n",
       "enrollment                                                                         302\n",
       "gsRating                                                                             8\n",
       "parentRating                                                                         5\n",
       "city                                                                            Austin\n",
       "state                                                                               TX\n",
       "districtId                                                                         115\n",
       "district                                            Austin Independent School District\n",
       "districtNCESId                                                             4.80894e+06\n",
       "address                                      1712 East 11th Street,  Austin, TX  78702\n",
       "phone                                                                   (512) 414-2021\n",
       "fax                                                                     (512) 477-7640\n",
       "website                                        http://www.blackshearyellowjackets.org/\n",
       "ncesId                                                                    480894000300\n",
       "lat                                                                             30.267\n",
       "lon                                                                           -97.7222\n",
       "schoolName                                                Blackshear Elementary School\n",
       "latitude                                                                        30.267\n",
       "longitude                                                                     -97.7222\n",
       "headOfficialName                                                     MR RICHARD GARNER\n",
       "freeAndReducedPriceLunch                                                          81.1\n",
       "idea                                                                               8.4\n",
       "plan504                                                                            4.2\n",
       "percentTeachersInFirstSecondYear                                                    15\n",
       "White, non-Hispanic                                                               9.97\n",
       "Black, non-Hispanic                                                              27.84\n",
       "Hispanic                                                                         57.39\n",
       "Multiracial                                                                       3.09\n",
       "Asian                                                                             0.69\n",
       "Native American or Native Alaskan                                                 1.03\n",
       "Native Hawaiian or Other Pacific Islander                                            0\n",
       "Name: 0, dtype: object"
      ]
     },
     "execution_count": 46,
     "metadata": {},
     "output_type": "execute_result"
    }
   ],
   "source": [
    "df_aisd.iloc[0]\n"
   ]
  },
  {
   "cell_type": "code",
   "execution_count": 47,
   "metadata": {},
   "outputs": [],
   "source": [
    "df_aisd.to_csv('csv_files/AISDSchools.csv')"
   ]
  },
  {
   "cell_type": "code",
   "execution_count": 48,
   "metadata": {},
   "outputs": [],
   "source": [
    "!open 'csv_files/AISDSchools.csv'"
   ]
  },
  {
   "cell_type": "code",
   "execution_count": null,
   "metadata": {},
   "outputs": [],
   "source": []
  }
 ],
 "metadata": {
  "kernelspec": {
   "display_name": "Python(projectOne)",
   "language": "python",
   "name": "projectone"
  },
  "language_info": {
   "codemirror_mode": {
    "name": "ipython",
    "version": 3
   },
   "file_extension": ".py",
   "mimetype": "text/x-python",
   "name": "python",
   "nbconvert_exporter": "python",
   "pygments_lexer": "ipython3",
   "version": "3.6.7"
  }
 },
 "nbformat": 4,
 "nbformat_minor": 2
}
