{
 "cells": [
  {
   "cell_type": "code",
   "execution_count": 1,
   "metadata": {},
   "outputs": [],
   "source": [
    "%matplotlib inline\n"
   ]
  },
  {
   "cell_type": "code",
   "execution_count": 2,
   "metadata": {},
   "outputs": [],
   "source": [
    "# import libraries\n",
    "\n",
    "import os\n",
    "import matplotlib.pyplot as plt\n",
    "import numpy as np\n",
    "import pandas as pd\n",
    "from config import(plotly_username,plotly_key)\n",
    "import cufflinks as cf\n",
    "import plotly.plotly as py\n",
    "import plotly.tools as tls\n",
    "import plotly.io as pio\n",
    "import plotly.graph_objs as go"
   ]
  },
  {
   "cell_type": "code",
   "execution_count": 3,
   "metadata": {},
   "outputs": [],
   "source": [
    "# set credentials\n",
    "tls.set_credentials_file(username=plotly_username, api_key=plotly_key)"
   ]
  },
  {
   "cell_type": "code",
   "execution_count": 4,
   "metadata": {},
   "outputs": [],
   "source": [
    "# read in csv file\n",
    "file = os.path.join(\"compileddata.csv\")\n",
    "df = pd.read_csv(file)\n",
    "df = df.rename(columns={'Unnamed: 0': 'Index'})"
   ]
  },
  {
   "cell_type": "code",
   "execution_count": 5,
   "metadata": {},
   "outputs": [
    {
     "name": "stderr",
     "output_type": "stream",
     "text": [
      "/Users/prettyvo/anaconda3/lib/python3.7/site-packages/IPython/core/display.py:689: UserWarning:\n",
      "\n",
      "Consider using IPython.display.IFrame instead\n",
      "\n"
     ]
    },
    {
     "data": {
      "text/html": [
       "<iframe id=\"igraph\" scrolling=\"no\" style=\"border:none;\" seamless=\"seamless\" src=\"https://plot.ly/~pretttyvo/4.embed\" height=\"525px\" width=\"100%\"></iframe>"
      ],
      "text/plain": [
       "<plotly.tools.PlotlyDisplay object>"
      ]
     },
     "execution_count": 5,
     "metadata": {},
     "output_type": "execute_result"
    }
   ],
   "source": [
    "# group by data\n",
    "# year\n",
    "year_df = df.groupby('year').sum()\n",
    "# year and school type\n",
    "year_type_df = df.groupby(['school_type', 'year']).sum()\n",
    "year_df\n",
    "# Caclulate and pull out column for percentage of title one students per year\n",
    "year_type_df['T1_rate'] = (year_type_df['total_title1']/year_type_df['total_enroll'])*100\n",
    "year_type_df\n",
    "df_s = year_type_df['T1_rate']\n",
    "df_s.head()\n",
    "\n",
    "df_s.unstack().iplot(kind='bar', yTitle='Title One Student Enrollment (%)', xTitle='School Type', title=\"Title One Student Percentage by School Type\")"
   ]
  },
  {
   "cell_type": "code",
   "execution_count": 6,
   "metadata": {},
   "outputs": [
    {
     "data": {
      "text/html": [
       "<iframe id=\"igraph\" scrolling=\"no\" style=\"border:none;\" seamless=\"seamless\" src=\"https://plot.ly/~pretttyvo/6.embed\" height=\"525px\" width=\"100%\"></iframe>"
      ],
      "text/plain": [
       "<plotly.tools.PlotlyDisplay object>"
      ]
     },
     "execution_count": 6,
     "metadata": {},
     "output_type": "execute_result"
    }
   ],
   "source": [
    "# find the top 5 populate high schools\n",
    "high_ind = df.set_index('school_type')\n",
    "high = high_ind.loc['High'].groupby(['year', 'campus']).sum()\n",
    "labels=[\"Bowie High School\",\"Akins High School\",\"Anderson High School\",\"Austin High School\",\"Mccallum High School\"]\n",
    "high_t1 = pd.DataFrame(high[['total_title1', 'total_enroll']]).reset_index()\n",
    "high_t1['title1_%'] = (high_t1['total_title1']/high_t1['total_enroll'])*100\n",
    "top_high = high_t1.set_index('campus')\n",
    "top_high = top_high[['title1_%', 'year']]\n",
    "top_5 = top_high.loc[[\"Bowie High School\",\"Akins High School\",\"Anderson High School\",\"Austin High School\",\"Mccallum High School\"]]\n",
    "top_5 = top_5.groupby(['campus', 'year']).sum()\n",
    "top_5.head()\n",
    "top_5.unstack().iplot(kind='bar', yTitle='Student Enrollment', xTitle='Campus Name', title=\"Student Enrollment Overview\")\n",
    "\n",
    "\n"
   ]
  },
  {
   "cell_type": "code",
   "execution_count": 7,
   "metadata": {},
   "outputs": [
    {
     "data": {
      "text/html": [
       "<iframe id=\"igraph\" scrolling=\"no\" style=\"border:none;\" seamless=\"seamless\" src=\"https://plot.ly/~pretttyvo/2.embed\" height=\"525px\" width=\"100%\"></iframe>"
      ],
      "text/plain": [
       "<plotly.tools.PlotlyDisplay object>"
      ]
     },
     "execution_count": 7,
     "metadata": {},
     "output_type": "execute_result"
    }
   ],
   "source": [
    "# title one vs. non-title one\n",
    "# Calculate proportion of title one to non-title one students\n",
    "\n",
    "df['non_title1'] = df['total_enroll']-df['total_title1']\n",
    "non_t1 = df [['year', 'total_title1', 'non_title1']]\n",
    "non_t1_sum = non_t1.groupby('year').sum()\n",
    "\n",
    "non_df = non_t1_sum.reset_index()\n",
    "non_df['Percentage'] = (non_df['non_title1']/non_df['total_title1'])*100\n",
    "non_df['Ratio'] = (100/non_df['Percentage'])\n",
    "non_df['T1_rate_of_change'] = (non_df.iloc[0,1]-non_df['total_title1'])*(-1)\n",
    "non_df['n-T1_rate_of_change'] = (non_df.iloc[0,2]-non_df['non_title1'])*(-1)\n",
    "non_df['n-T1_negatvie_rate_of_change'] = (non_df.iloc[0,2]-non_df['non_title1'])\n",
    "rate_enr_t1 = non_df[['year', 'T1_rate_of_change', 'n-T1_negatvie_rate_of_change']]\n",
    "non_df\n",
    "\n",
    "df_nnn = non_df[['year','Ratio']].set_index('year')\n",
    "df_nnn.iplot(kind='line', yTitle='Ratio Title One to Non-Title One', xTitle='Years', title=\"Title One to Non-Title One Ratio\")\n",
    "\n",
    "# pio.write_image(fig, '../../../Final_Data/Austin_ISD_Clean/Images/Final_Plots/title_one_to_non_t1_ratio.png')\n"
   ]
  },
  {
   "cell_type": "code",
   "execution_count": null,
   "metadata": {},
   "outputs": [],
   "source": []
  }
 ],
 "metadata": {
  "kernelspec": {
   "display_name": "Python(ProjectOne)",
   "language": "python",
   "name": "projectone"
  },
  "language_info": {
   "codemirror_mode": {
    "name": "ipython",
    "version": 3
   },
   "file_extension": ".py",
   "mimetype": "text/x-python",
   "name": "python",
   "nbconvert_exporter": "python",
   "pygments_lexer": "ipython3",
   "version": "3.7.1"
  }
 },
 "nbformat": 4,
 "nbformat_minor": 2
}
