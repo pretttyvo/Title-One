{
 "cells": [
  {
   "cell_type": "code",
   "execution_count": 1,
   "metadata": {},
   "outputs": [
    {
     "name": "stderr",
     "output_type": "stream",
     "text": [
      "IOPub data rate exceeded.\n",
      "The notebook server will temporarily stop sending output\n",
      "to the client in order to avoid crashing it.\n",
      "To change this limit, set the config variable\n",
      "`--NotebookApp.iopub_data_rate_limit`.\n"
     ]
    },
    {
     "data": {
      "text/html": [
       "<script type=\"text/javascript\">window.PlotlyConfig = {MathJaxConfig: 'local'};</script><script type=\"text/javascript\">if (window.MathJax) {MathJax.Hub.Config({SVG: {font: \"STIX-Web\"}});}</script><script>requirejs.config({paths: { 'plotly': ['https://cdn.plot.ly/plotly-latest.min']},});if(!window._Plotly) {require(['plotly'],function(plotly) {window._Plotly=plotly;});}</script>"
      ],
      "text/vnd.plotly.v1+html": [
       "<script type=\"text/javascript\">window.PlotlyConfig = {MathJaxConfig: 'local'};</script><script type=\"text/javascript\">if (window.MathJax) {MathJax.Hub.Config({SVG: {font: \"STIX-Web\"}});}</script><script>requirejs.config({paths: { 'plotly': ['https://cdn.plot.ly/plotly-latest.min']},});if(!window._Plotly) {require(['plotly'],function(plotly) {window._Plotly=plotly;});}</script>"
      ]
     },
     "metadata": {},
     "output_type": "display_data"
    }
   ],
   "source": [
    "from plotly import __version__\n",
    "import cufflinks as cf\n",
    "import plotly.offline as py\n",
    "import plotly.graph_objs as go\n",
    "py.init_notebook_mode(connected=True)"
   ]
  },
  {
   "cell_type": "code",
   "execution_count": 2,
   "metadata": {
    "collapsed": true
   },
   "outputs": [],
   "source": [
    "%matplotlib inline\n",
    "import matplotlib.pyplot as plt\n",
    "import seaborn as sb"
   ]
  },
  {
   "cell_type": "code",
   "execution_count": 3,
   "metadata": {
    "collapsed": true
   },
   "outputs": [],
   "source": [
    "import pandas as pd\n",
    "import glob, os \n",
    "import numpy as np\n",
    "\n",
    "os.chdir('csv_files')\n",
    "results = pd.DataFrame([])"
   ]
  },
  {
   "cell_type": "code",
   "execution_count": 4,
   "metadata": {},
   "outputs": [
    {
     "name": "stderr",
     "output_type": "stream",
     "text": [
      "/Users/tomasresendiz/anaconda3/lib/python3.6/site-packages/pandas/core/frame.py:6692: FutureWarning:\n",
      "\n",
      "Sorting because non-concatenation axis is not aligned. A future version\n",
      "of pandas will change to not sort by default.\n",
      "\n",
      "To accept the future behavior, pass 'sort=False'.\n",
      "\n",
      "To retain the current behavior and silence the warning, pass 'sort=True'.\n",
      "\n",
      "\n"
     ]
    }
   ],
   "source": [
    "#Merged all csv files under the csv_file folder\n",
    "for counter, file in enumerate(glob.glob('Stud*')):\n",
    "    namedf = pd.read_csv(file, skiprows=6)\n",
    "    results = results.append(namedf)\n",
    "results.to_csv('../csv_files/combined.csv')\n",
    "results = results.reset_index(drop=True)"
   ]
  },
  {
   "cell_type": "code",
   "execution_count": 5,
   "metadata": {},
   "outputs": [
    {
     "data": {
      "text/html": [
       "<div>\n",
       "<style scoped>\n",
       "    .dataframe tbody tr th:only-of-type {\n",
       "        vertical-align: middle;\n",
       "    }\n",
       "\n",
       "    .dataframe tbody tr th {\n",
       "        vertical-align: top;\n",
       "    }\n",
       "\n",
       "    .dataframe thead th {\n",
       "        text-align: right;\n",
       "    }\n",
       "</style>\n",
       "<table border=\"1\" class=\"dataframe\">\n",
       "  <thead>\n",
       "    <tr style=\"text-align: right;\">\n",
       "      <th></th>\n",
       "      <th>AGG_LEVEL</th>\n",
       "      <th>CHARTER STATUS</th>\n",
       "      <th>DISTRICT NAME</th>\n",
       "      <th>DISTRICT NUMBER</th>\n",
       "      <th>REGION</th>\n",
       "      <th>SCOPE</th>\n",
       "      <th>TOTAL AT RISK STUDENTS</th>\n",
       "      <th>TOTAL BILINGUAL STUDENTS</th>\n",
       "      <th>TOTAL CTE STUDENTS</th>\n",
       "      <th>TOTAL DYSLEXIC STUDENTS</th>\n",
       "      <th>...</th>\n",
       "      <th>TOTAL FOSTER CARE STUDENTS</th>\n",
       "      <th>TOTAL G &amp; T STUDENTS</th>\n",
       "      <th>TOTAL HOMELESS STUDENTS</th>\n",
       "      <th>TOTAL LEP STUDENTS</th>\n",
       "      <th>TOTAL MILITARY CONNECTED STUDENTS</th>\n",
       "      <th>TOTAL PRE-K FOSTER STUDENTS</th>\n",
       "      <th>TOTAL PRE-K MILITARY STUDENTS</th>\n",
       "      <th>TOTAL STUDENTS RECEIVING SPECIAL EDUCATION SERVICES</th>\n",
       "      <th>TOTAL TITLE I STUDENTS</th>\n",
       "      <th>YEAR</th>\n",
       "    </tr>\n",
       "  </thead>\n",
       "  <tbody>\n",
       "    <tr>\n",
       "      <th>0</th>\n",
       "      <td>DISTRICT</td>\n",
       "      <td>NaN</td>\n",
       "      <td>CAYUGA ISD</td>\n",
       "      <td>1902.0</td>\n",
       "      <td>7.0</td>\n",
       "      <td>STATE</td>\n",
       "      <td>224.0</td>\n",
       "      <td>0.0</td>\n",
       "      <td>153.0</td>\n",
       "      <td>37.0</td>\n",
       "      <td>...</td>\n",
       "      <td>-9999999.0</td>\n",
       "      <td>63.0</td>\n",
       "      <td>NaN</td>\n",
       "      <td>-9999999.0</td>\n",
       "      <td>5.0</td>\n",
       "      <td>NaN</td>\n",
       "      <td>NaN</td>\n",
       "      <td>80.0</td>\n",
       "      <td>570.0</td>\n",
       "      <td>2015-2016</td>\n",
       "    </tr>\n",
       "    <tr>\n",
       "      <th>1</th>\n",
       "      <td>DISTRICT</td>\n",
       "      <td>NaN</td>\n",
       "      <td>ELKHART ISD</td>\n",
       "      <td>1903.0</td>\n",
       "      <td>7.0</td>\n",
       "      <td>STATE</td>\n",
       "      <td>380.0</td>\n",
       "      <td>0.0</td>\n",
       "      <td>304.0</td>\n",
       "      <td>40.0</td>\n",
       "      <td>...</td>\n",
       "      <td>14.0</td>\n",
       "      <td>45.0</td>\n",
       "      <td>NaN</td>\n",
       "      <td>19.0</td>\n",
       "      <td>0.0</td>\n",
       "      <td>NaN</td>\n",
       "      <td>NaN</td>\n",
       "      <td>144.0</td>\n",
       "      <td>1244.0</td>\n",
       "      <td>2015-2016</td>\n",
       "    </tr>\n",
       "    <tr>\n",
       "      <th>2</th>\n",
       "      <td>DISTRICT</td>\n",
       "      <td>NaN</td>\n",
       "      <td>FRANKSTON ISD</td>\n",
       "      <td>1904.0</td>\n",
       "      <td>7.0</td>\n",
       "      <td>STATE</td>\n",
       "      <td>338.0</td>\n",
       "      <td>0.0</td>\n",
       "      <td>273.0</td>\n",
       "      <td>39.0</td>\n",
       "      <td>...</td>\n",
       "      <td>11.0</td>\n",
       "      <td>60.0</td>\n",
       "      <td>NaN</td>\n",
       "      <td>19.0</td>\n",
       "      <td>16.0</td>\n",
       "      <td>NaN</td>\n",
       "      <td>NaN</td>\n",
       "      <td>70.0</td>\n",
       "      <td>841.0</td>\n",
       "      <td>2015-2016</td>\n",
       "    </tr>\n",
       "  </tbody>\n",
       "</table>\n",
       "<p>3 rows × 23 columns</p>\n",
       "</div>"
      ],
      "text/plain": [
       "  AGG_LEVEL CHARTER STATUS  DISTRICT NAME  DISTRICT NUMBER  REGION  SCOPE  \\\n",
       "0  DISTRICT            NaN     CAYUGA ISD           1902.0     7.0  STATE   \n",
       "1  DISTRICT            NaN    ELKHART ISD           1903.0     7.0  STATE   \n",
       "2  DISTRICT            NaN  FRANKSTON ISD           1904.0     7.0  STATE   \n",
       "\n",
       "   TOTAL AT RISK STUDENTS  TOTAL BILINGUAL STUDENTS  TOTAL CTE STUDENTS  \\\n",
       "0                   224.0                       0.0               153.0   \n",
       "1                   380.0                       0.0               304.0   \n",
       "2                   338.0                       0.0               273.0   \n",
       "\n",
       "   TOTAL DYSLEXIC STUDENTS  ...  TOTAL FOSTER CARE STUDENTS  \\\n",
       "0                     37.0  ...                  -9999999.0   \n",
       "1                     40.0  ...                        14.0   \n",
       "2                     39.0  ...                        11.0   \n",
       "\n",
       "   TOTAL G & T STUDENTS  TOTAL HOMELESS STUDENTS  TOTAL LEP STUDENTS  \\\n",
       "0                  63.0                      NaN          -9999999.0   \n",
       "1                  45.0                      NaN                19.0   \n",
       "2                  60.0                      NaN                19.0   \n",
       "\n",
       "   TOTAL MILITARY CONNECTED STUDENTS  TOTAL PRE-K FOSTER STUDENTS  \\\n",
       "0                                5.0                          NaN   \n",
       "1                                0.0                          NaN   \n",
       "2                               16.0                          NaN   \n",
       "\n",
       "   TOTAL PRE-K MILITARY STUDENTS  \\\n",
       "0                            NaN   \n",
       "1                            NaN   \n",
       "2                            NaN   \n",
       "\n",
       "   TOTAL STUDENTS RECEIVING SPECIAL EDUCATION SERVICES  \\\n",
       "0                                               80.0     \n",
       "1                                              144.0     \n",
       "2                                               70.0     \n",
       "\n",
       "   TOTAL TITLE I STUDENTS       YEAR  \n",
       "0                   570.0  2015-2016  \n",
       "1                  1244.0  2015-2016  \n",
       "2                   841.0  2015-2016  \n",
       "\n",
       "[3 rows x 23 columns]"
      ]
     },
     "execution_count": 5,
     "metadata": {},
     "output_type": "execute_result"
    }
   ],
   "source": [
    "#Removed any missing district name data, mainly all empty rows that \n",
    "#remained from the footer columns\n",
    "df = results[results['DISTRICT NAME'].notnull()].reset_index(drop=True)\n",
    "df.head(3)"
   ]
  },
  {
   "cell_type": "code",
   "execution_count": 6,
   "metadata": {
    "collapsed": true
   },
   "outputs": [],
   "source": [
    "#Obtains the average of masked values based on 1 percent of total enrollment\n",
    "t1_missing_val = df[df['TOTAL TITLE I STUDENTS']<0]['TOTAL ENROLLMENT'].mean()*0.01\n",
    "#This grabs the working dataframe columns from the orignal df, and will replace them with the t1_missing_val mean\n",
    "wk_df = df[['YEAR','DISTRICT NAME','DISTRICT NUMBER','REGION','TOTAL ENROLLMENT','TOTAL TITLE I STUDENTS']]\n",
    "wk_df.replace(-9999999,t1_missing_val)\n",
    "wk_df['PCT_T1'] = (wk_df['TOTAL TITLE I STUDENTS'] / wk_df['TOTAL ENROLLMENT']) * 100\n",
    "wk_df = wk_df.round()"
   ]
  },
  {
   "cell_type": "code",
   "execution_count": 7,
   "metadata": {
    "collapsed": true
   },
   "outputs": [],
   "source": [
    "def yr_enrollment(limit, year='2018-2019'):\n",
    "    '''Sort district ISDs by number of enrollment and academic year.\n",
    "    limit: takes in an integer or float\n",
    "    year: takes in a string of academic year'''\n",
    "    try:\n",
    "        data = wk_df[(wk_df['TOTAL ENROLLMENT'] >= limit) & \n",
    "        (wk_df['YEAR'] == year)][['DISTRICT NUMBER','DISTRICT NAME','TOTAL ENROLLMENT','TOTAL TITLE I STUDENTS']]\n",
    "        data = data.sort_values('TOTAL ENROLLMENT', ascending=False).reset_index(drop=True)\n",
    "        data['PCT_T1'] = (data['TOTAL TITLE I STUDENTS'] / data['TOTAL ENROLLMENT']) * 100\n",
    "        return data.round()\n",
    "    except Exception as e:\n",
    "        return print('Please read the docsting notes')"
   ]
  },
  {
   "cell_type": "code",
   "execution_count": 37,
   "metadata": {
    "collapsed": true
   },
   "outputs": [],
   "source": [
    "tx_enroll = df[df['YEAR']=='2018-2019']['TOTAL ENROLLMENT'].sum()\n",
    "tx_t1enroll = df[df['YEAR']=='2018-2019']['TOTAL TITLE I STUDENTS'].sum()\n",
    "pct_t1 = ((tx_t1enroll/tx_enroll) * 100).round()"
   ]
  },
  {
   "cell_type": "code",
   "execution_count": 39,
   "metadata": {},
   "outputs": [
    {
     "name": "stdout",
     "output_type": "stream",
     "text": [
      "Texas total current enrollment: 5431910.0.\n",
      "Texas total current title 1 enrollment: 3524974.0.\n",
      "Texas total title 1 percent enrollment: 65.0 percent.\n"
     ]
    }
   ],
   "source": [
    "print(f'Texas total current enrollment: {tx_enroll}.')\n",
    "print(f'Texas total current title 1 enrollment: {tx_t1enroll}.')\n",
    "print(f'Texas total title 1 percent enrollment: {pct_t1} percent.')"
   ]
  },
  {
   "cell_type": "code",
   "execution_count": 41,
   "metadata": {},
   "outputs": [
    {
     "data": {
      "text/html": [
       "<div>\n",
       "<style scoped>\n",
       "    .dataframe tbody tr th:only-of-type {\n",
       "        vertical-align: middle;\n",
       "    }\n",
       "\n",
       "    .dataframe tbody tr th {\n",
       "        vertical-align: top;\n",
       "    }\n",
       "\n",
       "    .dataframe thead th {\n",
       "        text-align: right;\n",
       "    }\n",
       "</style>\n",
       "<table border=\"1\" class=\"dataframe\">\n",
       "  <thead>\n",
       "    <tr style=\"text-align: right;\">\n",
       "      <th></th>\n",
       "      <th>DISTRICT NUMBER</th>\n",
       "      <th>DISTRICT NAME</th>\n",
       "      <th>TOTAL ENROLLMENT</th>\n",
       "      <th>TOTAL TITLE I STUDENTS</th>\n",
       "      <th>PCT_T1</th>\n",
       "    </tr>\n",
       "  </thead>\n",
       "  <tbody>\n",
       "    <tr>\n",
       "      <th>0</th>\n",
       "      <td>101912.0</td>\n",
       "      <td>HOUSTON ISD</td>\n",
       "      <td>209772.0</td>\n",
       "      <td>191412.0</td>\n",
       "      <td>91.0</td>\n",
       "    </tr>\n",
       "    <tr>\n",
       "      <th>1</th>\n",
       "      <td>57905.0</td>\n",
       "      <td>DALLAS ISD</td>\n",
       "      <td>155119.0</td>\n",
       "      <td>150628.0</td>\n",
       "      <td>97.0</td>\n",
       "    </tr>\n",
       "    <tr>\n",
       "      <th>2</th>\n",
       "      <td>101907.0</td>\n",
       "      <td>CYPRESS-FAIRBANKS ISD</td>\n",
       "      <td>116512.0</td>\n",
       "      <td>51658.0</td>\n",
       "      <td>44.0</td>\n",
       "    </tr>\n",
       "    <tr>\n",
       "      <th>3</th>\n",
       "      <td>15915.0</td>\n",
       "      <td>NORTHSIDE ISD</td>\n",
       "      <td>106501.0</td>\n",
       "      <td>37151.0</td>\n",
       "      <td>35.0</td>\n",
       "    </tr>\n",
       "    <tr>\n",
       "      <th>4</th>\n",
       "      <td>220905.0</td>\n",
       "      <td>FORT WORTH ISD</td>\n",
       "      <td>84510.0</td>\n",
       "      <td>81088.0</td>\n",
       "      <td>96.0</td>\n",
       "    </tr>\n",
       "    <tr>\n",
       "      <th>5</th>\n",
       "      <td>227901.0</td>\n",
       "      <td>AUSTIN ISD</td>\n",
       "      <td>80032.0</td>\n",
       "      <td>40203.0</td>\n",
       "      <td>50.0</td>\n",
       "    </tr>\n",
       "    <tr>\n",
       "      <th>6</th>\n",
       "      <td>101914.0</td>\n",
       "      <td>KATY ISD</td>\n",
       "      <td>79913.0</td>\n",
       "      <td>14254.0</td>\n",
       "      <td>18.0</td>\n",
       "    </tr>\n",
       "    <tr>\n",
       "      <th>7</th>\n",
       "      <td>79907.0</td>\n",
       "      <td>FORT BEND ISD</td>\n",
       "      <td>76122.0</td>\n",
       "      <td>15198.0</td>\n",
       "      <td>20.0</td>\n",
       "    </tr>\n",
       "    <tr>\n",
       "      <th>8</th>\n",
       "      <td>101902.0</td>\n",
       "      <td>ALDINE ISD</td>\n",
       "      <td>66854.0</td>\n",
       "      <td>66714.0</td>\n",
       "      <td>100.0</td>\n",
       "    </tr>\n",
       "    <tr>\n",
       "      <th>9</th>\n",
       "      <td>15910.0</td>\n",
       "      <td>NORTH EAST ISD</td>\n",
       "      <td>65186.0</td>\n",
       "      <td>15908.0</td>\n",
       "      <td>24.0</td>\n",
       "    </tr>\n",
       "  </tbody>\n",
       "</table>\n",
       "</div>"
      ],
      "text/plain": [
       "   DISTRICT NUMBER          DISTRICT NAME  TOTAL ENROLLMENT  \\\n",
       "0         101912.0            HOUSTON ISD          209772.0   \n",
       "1          57905.0             DALLAS ISD          155119.0   \n",
       "2         101907.0  CYPRESS-FAIRBANKS ISD          116512.0   \n",
       "3          15915.0          NORTHSIDE ISD          106501.0   \n",
       "4         220905.0         FORT WORTH ISD           84510.0   \n",
       "5         227901.0             AUSTIN ISD           80032.0   \n",
       "6         101914.0               KATY ISD           79913.0   \n",
       "7          79907.0          FORT BEND ISD           76122.0   \n",
       "8         101902.0             ALDINE ISD           66854.0   \n",
       "9          15910.0         NORTH EAST ISD           65186.0   \n",
       "\n",
       "   TOTAL TITLE I STUDENTS  PCT_T1  \n",
       "0                191412.0    91.0  \n",
       "1                150628.0    97.0  \n",
       "2                 51658.0    44.0  \n",
       "3                 37151.0    35.0  \n",
       "4                 81088.0    96.0  \n",
       "5                 40203.0    50.0  \n",
       "6                 14254.0    18.0  \n",
       "7                 15198.0    20.0  \n",
       "8                 66714.0   100.0  \n",
       "9                 15908.0    24.0  "
      ]
     },
     "execution_count": 41,
     "metadata": {},
     "output_type": "execute_result"
    }
   ],
   "source": [
    "yr_enrollment(65000)"
   ]
  },
  {
   "cell_type": "code",
   "execution_count": 17,
   "metadata": {
    "collapsed": true
   },
   "outputs": [],
   "source": [
    "#names of all ISD's surrounding Austin area.\n",
    "aus_area_schools = ['AUSTIN ISD','DEL VALLE ISD','DRIPPING SPRINGS ISD',\n",
    " 'EANES ISD','GEORGETOWN ISD','HAYS CISD','HUTTO ISD','LAKE TRAVIS ISD',\n",
    " 'LEANDER ISD','PFLUGERVILLE ISD','ROUND ROCK ISD','MANOR ISD','LAGO VISTA ISD']"
   ]
  },
  {
   "cell_type": "code",
   "execution_count": 18,
   "metadata": {},
   "outputs": [
    {
     "data": {
      "text/html": [
       "<div>\n",
       "<style scoped>\n",
       "    .dataframe tbody tr th:only-of-type {\n",
       "        vertical-align: middle;\n",
       "    }\n",
       "\n",
       "    .dataframe tbody tr th {\n",
       "        vertical-align: top;\n",
       "    }\n",
       "\n",
       "    .dataframe thead th {\n",
       "        text-align: right;\n",
       "    }\n",
       "</style>\n",
       "<table border=\"1\" class=\"dataframe\">\n",
       "  <thead>\n",
       "    <tr style=\"text-align: right;\">\n",
       "      <th></th>\n",
       "      <th>YEAR</th>\n",
       "      <th>DISTRICT NAME</th>\n",
       "      <th>DISTRICT NUMBER</th>\n",
       "      <th>REGION</th>\n",
       "      <th>TOTAL ENROLLMENT</th>\n",
       "      <th>TOTAL TITLE I STUDENTS</th>\n",
       "      <th>PCT_T1</th>\n",
       "    </tr>\n",
       "  </thead>\n",
       "  <tbody>\n",
       "    <tr>\n",
       "      <th>0</th>\n",
       "      <td>2015-2016</td>\n",
       "      <td>DRIPPING SPRINGS ISD</td>\n",
       "      <td>105904.0</td>\n",
       "      <td>13.0</td>\n",
       "      <td>5619.0</td>\n",
       "      <td>1822.0</td>\n",
       "      <td>32.0</td>\n",
       "    </tr>\n",
       "    <tr>\n",
       "      <th>1</th>\n",
       "      <td>2015-2016</td>\n",
       "      <td>HAYS CISD</td>\n",
       "      <td>105906.0</td>\n",
       "      <td>13.0</td>\n",
       "      <td>18654.0</td>\n",
       "      <td>10392.0</td>\n",
       "      <td>56.0</td>\n",
       "    </tr>\n",
       "    <tr>\n",
       "      <th>2</th>\n",
       "      <td>2015-2016</td>\n",
       "      <td>AUSTIN ISD</td>\n",
       "      <td>227901.0</td>\n",
       "      <td>13.0</td>\n",
       "      <td>83648.0</td>\n",
       "      <td>45120.0</td>\n",
       "      <td>54.0</td>\n",
       "    </tr>\n",
       "  </tbody>\n",
       "</table>\n",
       "</div>"
      ],
      "text/plain": [
       "        YEAR         DISTRICT NAME  DISTRICT NUMBER  REGION  TOTAL ENROLLMENT  \\\n",
       "0  2015-2016  DRIPPING SPRINGS ISD         105904.0    13.0            5619.0   \n",
       "1  2015-2016             HAYS CISD         105906.0    13.0           18654.0   \n",
       "2  2015-2016            AUSTIN ISD         227901.0    13.0           83648.0   \n",
       "\n",
       "   TOTAL TITLE I STUDENTS  PCT_T1  \n",
       "0                  1822.0    32.0  \n",
       "1                 10392.0    56.0  \n",
       "2                 45120.0    54.0  "
      ]
     },
     "execution_count": 18,
     "metadata": {},
     "output_type": "execute_result"
    }
   ],
   "source": [
    "aus_area_df = wk_df[wk_df['DISTRICT NAME'].isin(aus_area_schools)].reset_index(drop=True)\n",
    "aus_area_df.head(3)"
   ]
  },
  {
   "cell_type": "code",
   "execution_count": 19,
   "metadata": {
    "collapsed": true
   },
   "outputs": [],
   "source": [
    "wk_plot = aus_area_df.groupby([\"DISTRICT NAME\", \"YEAR\"])['TOTAL ENROLLMENT'].mean().reset_index()"
   ]
  },
  {
   "cell_type": "code",
   "execution_count": 20,
   "metadata": {
    "scrolled": true
   },
   "outputs": [
    {
     "name": "stderr",
     "output_type": "stream",
     "text": [
      "IOPub data rate exceeded.\n",
      "The notebook server will temporarily stop sending output\n",
      "to the client in order to avoid crashing it.\n",
      "To change this limit, set the config variable\n",
      "`--NotebookApp.iopub_data_rate_limit`.\n"
     ]
    },
    {
     "data": {
      "application/vnd.plotly.v1+json": {
       "config": {
        "linkText": "Export to plot.ly",
        "plotlyServerURL": "https://plot.ly",
        "showLink": true
       },
       "data": [
        {
         "marker": {
          "color": "rgba(226, 74, 51, 0.6)",
          "line": {
           "color": "rgba(226, 74, 51, 1.0)",
           "width": 1
          }
         },
         "name": "('TOTAL ENROLLMENT', '2012-2013')",
         "orientation": "v",
         "text": "",
         "type": "bar",
         "uid": "72f7a91c-b585-47a8-8a9f-b0f0f94fae6e",
         "x": [
          "AUSTIN ISD",
          "DEL VALLE ISD",
          "DRIPPING SPRINGS ISD",
          "EANES ISD",
          "GEORGETOWN ISD",
          "HAYS CISD",
          "HUTTO ISD",
          "LAGO VISTA ISD",
          "LAKE TRAVIS ISD",
          "LEANDER ISD",
          "MANOR ISD",
          "PFLUGERVILLE ISD",
          "ROUND ROCK ISD"
         ],
         "y": [
          86516,
          11423,
          4783,
          7865,
          10370,
          16568,
          5754,
          1340,
          7809,
          34381,
          8087,
          23347,
          45749
         ]
        },
        {
         "marker": {
          "color": "rgba(62, 111, 176, 0.6)",
          "line": {
           "color": "rgba(62, 111, 176, 1.0)",
           "width": 1
          }
         },
         "name": "('TOTAL ENROLLMENT', '2013-2014')",
         "orientation": "v",
         "text": "",
         "type": "bar",
         "uid": "e7cb4cbf-9862-44b9-9033-3245dab25e35",
         "x": [
          "AUSTIN ISD",
          "DEL VALLE ISD",
          "DRIPPING SPRINGS ISD",
          "EANES ISD",
          "GEORGETOWN ISD",
          "HAYS CISD",
          "HUTTO ISD",
          "LAGO VISTA ISD",
          "LAKE TRAVIS ISD",
          "LEANDER ISD",
          "MANOR ISD",
          "PFLUGERVILLE ISD",
          "ROUND ROCK ISD"
         ],
         "y": [
          85372,
          11684,
          5107,
          8005,
          10554,
          17255,
          5926,
          1387,
          8257,
          35450,
          8657,
          23543,
          46666
         ]
        },
        {
         "marker": {
          "color": "rgba(132, 118, 202, 0.6)",
          "line": {
           "color": "rgba(132, 118, 202, 1.0)",
           "width": 1
          }
         },
         "name": "('TOTAL ENROLLMENT', '2014-2015')",
         "orientation": "v",
         "text": "",
         "type": "bar",
         "uid": "c254b6ed-c2c1-4d0d-809e-a353ce8a272c",
         "x": [
          "AUSTIN ISD",
          "DEL VALLE ISD",
          "DRIPPING SPRINGS ISD",
          "EANES ISD",
          "GEORGETOWN ISD",
          "HAYS CISD",
          "HUTTO ISD",
          "LAGO VISTA ISD",
          "LAKE TRAVIS ISD",
          "LEANDER ISD",
          "MANOR ISD",
          "PFLUGERVILLE ISD",
          "ROUND ROCK ISD"
         ],
         "y": [
          84564,
          11727,
          5421,
          7971,
          10651,
          17948,
          6187,
          1366,
          8833,
          36211,
          8852,
          23948,
          47251
         ]
        },
        {
         "marker": {
          "color": "rgba(101, 101, 101, 0.6)",
          "line": {
           "color": "rgba(101, 101, 101, 1.0)",
           "width": 1
          }
         },
         "name": "('TOTAL ENROLLMENT', '2015-2016')",
         "orientation": "v",
         "text": "",
         "type": "bar",
         "uid": "b5c7f226-bb22-4a81-9e55-73145b1b29e0",
         "x": [
          "AUSTIN ISD",
          "DEL VALLE ISD",
          "DRIPPING SPRINGS ISD",
          "EANES ISD",
          "GEORGETOWN ISD",
          "HAYS CISD",
          "HUTTO ISD",
          "LAGO VISTA ISD",
          "LAKE TRAVIS ISD",
          "LEANDER ISD",
          "MANOR ISD",
          "PFLUGERVILLE ISD",
          "ROUND ROCK ISD"
         ],
         "y": [
          83648,
          11559,
          5619,
          8075,
          10997,
          18654,
          6527,
          1437,
          9238,
          37158,
          8873,
          24100,
          47827
         ]
        },
        {
         "marker": {
          "color": "rgba(251, 193, 94, 0.6)",
          "line": {
           "color": "rgba(251, 193, 94, 1.0)",
           "width": 1
          }
         },
         "name": "('TOTAL ENROLLMENT', '2016-2017')",
         "orientation": "v",
         "text": "",
         "type": "bar",
         "uid": "86c0e251-f758-4e11-b5b4-15a2faf65c01",
         "x": [
          "AUSTIN ISD",
          "DEL VALLE ISD",
          "DRIPPING SPRINGS ISD",
          "EANES ISD",
          "GEORGETOWN ISD",
          "HAYS CISD",
          "HUTTO ISD",
          "LAGO VISTA ISD",
          "LAKE TRAVIS ISD",
          "LEANDER ISD",
          "MANOR ISD",
          "PFLUGERVILLE ISD",
          "ROUND ROCK ISD"
         ],
         "y": [
          83067,
          11278,
          6008,
          8134,
          11425,
          19215,
          6945,
          1449,
          9825,
          38226,
          8870,
          24591,
          48321
         ]
        },
        {
         "marker": {
          "color": "rgba(142, 186, 66, 0.6)",
          "line": {
           "color": "rgba(142, 186, 66, 1.0)",
           "width": 1
          }
         },
         "name": "('TOTAL ENROLLMENT', '2017-2018')",
         "orientation": "v",
         "text": "",
         "type": "bar",
         "uid": "c3633039-e426-43c4-a674-4259fb493efa",
         "x": [
          "AUSTIN ISD",
          "DEL VALLE ISD",
          "DRIPPING SPRINGS ISD",
          "EANES ISD",
          "GEORGETOWN ISD",
          "HAYS CISD",
          "HUTTO ISD",
          "LAGO VISTA ISD",
          "LAKE TRAVIS ISD",
          "LEANDER ISD",
          "MANOR ISD",
          "PFLUGERVILLE ISD",
          "ROUND ROCK ISD"
         ],
         "y": [
          81650,
          11216,
          6450,
          8061,
          11537,
          19862,
          7240,
          1475,
          10410,
          39028,
          9109,
          25306,
          49086
         ]
        },
        {
         "marker": {
          "color": "rgba(255, 181, 184, 0.6)",
          "line": {
           "color": "rgba(255, 181, 184, 1.0)",
           "width": 1
          }
         },
         "name": "('TOTAL ENROLLMENT', '2018-2019')",
         "orientation": "v",
         "text": "",
         "type": "bar",
         "uid": "86bb3cec-852d-4e2a-a6e6-6cd77d3565e0",
         "x": [
          "AUSTIN ISD",
          "DEL VALLE ISD",
          "DRIPPING SPRINGS ISD",
          "EANES ISD",
          "GEORGETOWN ISD",
          "HAYS CISD",
          "HUTTO ISD",
          "LAGO VISTA ISD",
          "LAKE TRAVIS ISD",
          "LEANDER ISD",
          "MANOR ISD",
          "PFLUGERVILLE ISD",
          "ROUND ROCK ISD"
         ],
         "y": [
          80032,
          10870,
          6873,
          8132,
          11759,
          19925,
          7592,
          1530,
          10738,
          40031,
          9463,
          25405,
          50387
         ]
        }
       ],
       "layout": {
        "legend": {
         "bgcolor": "#FFFFFF",
         "font": {
          "color": "#666666"
         }
        },
        "paper_bgcolor": "#FFFFFF",
        "plot_bgcolor": "#E5E5E5",
        "title": {
         "font": {
          "color": "#151516"
         },
         "text": "Autin Area ISDs"
        },
        "xaxis": {
         "gridcolor": "#F6F6F6",
         "showgrid": true,
         "tickfont": {
          "color": "#666666"
         },
         "title": {
          "font": {
           "color": "#666666"
          },
          "text": ""
         },
         "zerolinecolor": "#F6F6F6"
        },
        "yaxis": {
         "gridcolor": "#F6F6F6",
         "showgrid": true,
         "tickfont": {
          "color": "#666666"
         },
         "title": {
          "font": {
           "color": "#666666"
          },
          "text": ""
         },
         "zerolinecolor": "#F6F6F6"
        }
       }
      },
      "text/html": [
       "<div id=\"29249408-7738-4624-bc1a-0b7f34db1d4a\" style=\"height: 525px; width: 100%;\" class=\"plotly-graph-div\"></div><script type=\"text/javascript\">require([\"plotly\"], function(Plotly) { window.PLOTLYENV=window.PLOTLYENV || {};window.PLOTLYENV.BASE_URL=\"https://plot.ly\";Plotly.newPlot(\"29249408-7738-4624-bc1a-0b7f34db1d4a\", [{\"marker\": {\"color\": \"rgba(226, 74, 51, 0.6)\", \"line\": {\"color\": \"rgba(226, 74, 51, 1.0)\", \"width\": 1}}, \"name\": \"('TOTAL ENROLLMENT', '2012-2013')\", \"orientation\": \"v\", \"text\": \"\", \"x\": [\"AUSTIN ISD\", \"DEL VALLE ISD\", \"DRIPPING SPRINGS ISD\", \"EANES ISD\", \"GEORGETOWN ISD\", \"HAYS CISD\", \"HUTTO ISD\", \"LAGO VISTA ISD\", \"LAKE TRAVIS ISD\", \"LEANDER ISD\", \"MANOR ISD\", \"PFLUGERVILLE ISD\", \"ROUND ROCK ISD\"], \"y\": [86516.0, 11423.0, 4783.0, 7865.0, 10370.0, 16568.0, 5754.0, 1340.0, 7809.0, 34381.0, 8087.0, 23347.0, 45749.0], \"type\": \"bar\", \"uid\": \"0f7a6cdb-c8c1-44c5-b75b-66f09a269800\"}, {\"marker\": {\"color\": \"rgba(62, 111, 176, 0.6)\", \"line\": {\"color\": \"rgba(62, 111, 176, 1.0)\", \"width\": 1}}, \"name\": \"('TOTAL ENROLLMENT', '2013-2014')\", \"orientation\": \"v\", \"text\": \"\", \"x\": [\"AUSTIN ISD\", \"DEL VALLE ISD\", \"DRIPPING SPRINGS ISD\", \"EANES ISD\", \"GEORGETOWN ISD\", \"HAYS CISD\", \"HUTTO ISD\", \"LAGO VISTA ISD\", \"LAKE TRAVIS ISD\", \"LEANDER ISD\", \"MANOR ISD\", \"PFLUGERVILLE ISD\", \"ROUND ROCK ISD\"], \"y\": [85372.0, 11684.0, 5107.0, 8005.0, 10554.0, 17255.0, 5926.0, 1387.0, 8257.0, 35450.0, 8657.0, 23543.0, 46666.0], \"type\": \"bar\", \"uid\": \"c2b826c7-9d06-40e4-a638-b870cf9982b1\"}, {\"marker\": {\"color\": \"rgba(132, 118, 202, 0.6)\", \"line\": {\"color\": \"rgba(132, 118, 202, 1.0)\", \"width\": 1}}, \"name\": \"('TOTAL ENROLLMENT', '2014-2015')\", \"orientation\": \"v\", \"text\": \"\", \"x\": [\"AUSTIN ISD\", \"DEL VALLE ISD\", \"DRIPPING SPRINGS ISD\", \"EANES ISD\", \"GEORGETOWN ISD\", \"HAYS CISD\", \"HUTTO ISD\", \"LAGO VISTA ISD\", \"LAKE TRAVIS ISD\", \"LEANDER ISD\", \"MANOR ISD\", \"PFLUGERVILLE ISD\", \"ROUND ROCK ISD\"], \"y\": [84564.0, 11727.0, 5421.0, 7971.0, 10651.0, 17948.0, 6187.0, 1366.0, 8833.0, 36211.0, 8852.0, 23948.0, 47251.0], \"type\": \"bar\", \"uid\": \"586429b2-160b-4351-99bb-b3c325dff910\"}, {\"marker\": {\"color\": \"rgba(101, 101, 101, 0.6)\", \"line\": {\"color\": \"rgba(101, 101, 101, 1.0)\", \"width\": 1}}, \"name\": \"('TOTAL ENROLLMENT', '2015-2016')\", \"orientation\": \"v\", \"text\": \"\", \"x\": [\"AUSTIN ISD\", \"DEL VALLE ISD\", \"DRIPPING SPRINGS ISD\", \"EANES ISD\", \"GEORGETOWN ISD\", \"HAYS CISD\", \"HUTTO ISD\", \"LAGO VISTA ISD\", \"LAKE TRAVIS ISD\", \"LEANDER ISD\", \"MANOR ISD\", \"PFLUGERVILLE ISD\", \"ROUND ROCK ISD\"], \"y\": [83648.0, 11559.0, 5619.0, 8075.0, 10997.0, 18654.0, 6527.0, 1437.0, 9238.0, 37158.0, 8873.0, 24100.0, 47827.0], \"type\": \"bar\", \"uid\": \"0332a4fb-6454-4a06-8967-cd27889a4902\"}, {\"marker\": {\"color\": \"rgba(251, 193, 94, 0.6)\", \"line\": {\"color\": \"rgba(251, 193, 94, 1.0)\", \"width\": 1}}, \"name\": \"('TOTAL ENROLLMENT', '2016-2017')\", \"orientation\": \"v\", \"text\": \"\", \"x\": [\"AUSTIN ISD\", \"DEL VALLE ISD\", \"DRIPPING SPRINGS ISD\", \"EANES ISD\", \"GEORGETOWN ISD\", \"HAYS CISD\", \"HUTTO ISD\", \"LAGO VISTA ISD\", \"LAKE TRAVIS ISD\", \"LEANDER ISD\", \"MANOR ISD\", \"PFLUGERVILLE ISD\", \"ROUND ROCK ISD\"], \"y\": [83067.0, 11278.0, 6008.0, 8134.0, 11425.0, 19215.0, 6945.0, 1449.0, 9825.0, 38226.0, 8870.0, 24591.0, 48321.0], \"type\": \"bar\", \"uid\": \"51ac834f-19b4-4459-9975-bdd5ed408baf\"}, {\"marker\": {\"color\": \"rgba(142, 186, 66, 0.6)\", \"line\": {\"color\": \"rgba(142, 186, 66, 1.0)\", \"width\": 1}}, \"name\": \"('TOTAL ENROLLMENT', '2017-2018')\", \"orientation\": \"v\", \"text\": \"\", \"x\": [\"AUSTIN ISD\", \"DEL VALLE ISD\", \"DRIPPING SPRINGS ISD\", \"EANES ISD\", \"GEORGETOWN ISD\", \"HAYS CISD\", \"HUTTO ISD\", \"LAGO VISTA ISD\", \"LAKE TRAVIS ISD\", \"LEANDER ISD\", \"MANOR ISD\", \"PFLUGERVILLE ISD\", \"ROUND ROCK ISD\"], \"y\": [81650.0, 11216.0, 6450.0, 8061.0, 11537.0, 19862.0, 7240.0, 1475.0, 10410.0, 39028.0, 9109.0, 25306.0, 49086.0], \"type\": \"bar\", \"uid\": \"d38bf66e-5b5b-4b86-aaea-72cb9e6008dc\"}, {\"marker\": {\"color\": \"rgba(255, 181, 184, 0.6)\", \"line\": {\"color\": \"rgba(255, 181, 184, 1.0)\", \"width\": 1}}, \"name\": \"('TOTAL ENROLLMENT', '2018-2019')\", \"orientation\": \"v\", \"text\": \"\", \"x\": [\"AUSTIN ISD\", \"DEL VALLE ISD\", \"DRIPPING SPRINGS ISD\", \"EANES ISD\", \"GEORGETOWN ISD\", \"HAYS CISD\", \"HUTTO ISD\", \"LAGO VISTA ISD\", \"LAKE TRAVIS ISD\", \"LEANDER ISD\", \"MANOR ISD\", \"PFLUGERVILLE ISD\", \"ROUND ROCK ISD\"], \"y\": [80032.0, 10870.0, 6873.0, 8132.0, 11759.0, 19925.0, 7592.0, 1530.0, 10738.0, 40031.0, 9463.0, 25405.0, 50387.0], \"type\": \"bar\", \"uid\": \"5bd0c7da-5e70-4580-b7d8-b42e3b175982\"}], {\"legend\": {\"bgcolor\": \"#FFFFFF\", \"font\": {\"color\": \"#666666\"}}, \"paper_bgcolor\": \"#FFFFFF\", \"plot_bgcolor\": \"#E5E5E5\", \"title\": {\"text\": \"Autin Area ISDs\", \"font\": {\"color\": \"#151516\"}}, \"xaxis\": {\"gridcolor\": \"#F6F6F6\", \"showgrid\": true, \"tickfont\": {\"color\": \"#666666\"}, \"title\": {\"text\": \"\", \"font\": {\"color\": \"#666666\"}}, \"zerolinecolor\": \"#F6F6F6\"}, \"yaxis\": {\"gridcolor\": \"#F6F6F6\", \"showgrid\": true, \"tickfont\": {\"color\": \"#666666\"}, \"title\": {\"text\": \"\", \"font\": {\"color\": \"#666666\"}}, \"zerolinecolor\": \"#F6F6F6\"}}, {\"showLink\": true, \"linkText\": \"Export to plot.ly\", \"plotlyServerURL\": \"https://plot.ly\"})});</script><script type=\"text/javascript\">window.addEventListener(\"resize\", function(){window._Plotly.Plots.resize(document.getElementById(\"29249408-7738-4624-bc1a-0b7f34db1d4a\"));});</script>"
      ],
      "text/vnd.plotly.v1+html": [
       "<div id=\"29249408-7738-4624-bc1a-0b7f34db1d4a\" style=\"height: 525px; width: 100%;\" class=\"plotly-graph-div\"></div><script type=\"text/javascript\">require([\"plotly\"], function(Plotly) { window.PLOTLYENV=window.PLOTLYENV || {};window.PLOTLYENV.BASE_URL=\"https://plot.ly\";Plotly.newPlot(\"29249408-7738-4624-bc1a-0b7f34db1d4a\", [{\"marker\": {\"color\": \"rgba(226, 74, 51, 0.6)\", \"line\": {\"color\": \"rgba(226, 74, 51, 1.0)\", \"width\": 1}}, \"name\": \"('TOTAL ENROLLMENT', '2012-2013')\", \"orientation\": \"v\", \"text\": \"\", \"x\": [\"AUSTIN ISD\", \"DEL VALLE ISD\", \"DRIPPING SPRINGS ISD\", \"EANES ISD\", \"GEORGETOWN ISD\", \"HAYS CISD\", \"HUTTO ISD\", \"LAGO VISTA ISD\", \"LAKE TRAVIS ISD\", \"LEANDER ISD\", \"MANOR ISD\", \"PFLUGERVILLE ISD\", \"ROUND ROCK ISD\"], \"y\": [86516.0, 11423.0, 4783.0, 7865.0, 10370.0, 16568.0, 5754.0, 1340.0, 7809.0, 34381.0, 8087.0, 23347.0, 45749.0], \"type\": \"bar\", \"uid\": \"0f7a6cdb-c8c1-44c5-b75b-66f09a269800\"}, {\"marker\": {\"color\": \"rgba(62, 111, 176, 0.6)\", \"line\": {\"color\": \"rgba(62, 111, 176, 1.0)\", \"width\": 1}}, \"name\": \"('TOTAL ENROLLMENT', '2013-2014')\", \"orientation\": \"v\", \"text\": \"\", \"x\": [\"AUSTIN ISD\", \"DEL VALLE ISD\", \"DRIPPING SPRINGS ISD\", \"EANES ISD\", \"GEORGETOWN ISD\", \"HAYS CISD\", \"HUTTO ISD\", \"LAGO VISTA ISD\", \"LAKE TRAVIS ISD\", \"LEANDER ISD\", \"MANOR ISD\", \"PFLUGERVILLE ISD\", \"ROUND ROCK ISD\"], \"y\": [85372.0, 11684.0, 5107.0, 8005.0, 10554.0, 17255.0, 5926.0, 1387.0, 8257.0, 35450.0, 8657.0, 23543.0, 46666.0], \"type\": \"bar\", \"uid\": \"c2b826c7-9d06-40e4-a638-b870cf9982b1\"}, {\"marker\": {\"color\": \"rgba(132, 118, 202, 0.6)\", \"line\": {\"color\": \"rgba(132, 118, 202, 1.0)\", \"width\": 1}}, \"name\": \"('TOTAL ENROLLMENT', '2014-2015')\", \"orientation\": \"v\", \"text\": \"\", \"x\": [\"AUSTIN ISD\", \"DEL VALLE ISD\", \"DRIPPING SPRINGS ISD\", \"EANES ISD\", \"GEORGETOWN ISD\", \"HAYS CISD\", \"HUTTO ISD\", \"LAGO VISTA ISD\", \"LAKE TRAVIS ISD\", \"LEANDER ISD\", \"MANOR ISD\", \"PFLUGERVILLE ISD\", \"ROUND ROCK ISD\"], \"y\": [84564.0, 11727.0, 5421.0, 7971.0, 10651.0, 17948.0, 6187.0, 1366.0, 8833.0, 36211.0, 8852.0, 23948.0, 47251.0], \"type\": \"bar\", \"uid\": \"586429b2-160b-4351-99bb-b3c325dff910\"}, {\"marker\": {\"color\": \"rgba(101, 101, 101, 0.6)\", \"line\": {\"color\": \"rgba(101, 101, 101, 1.0)\", \"width\": 1}}, \"name\": \"('TOTAL ENROLLMENT', '2015-2016')\", \"orientation\": \"v\", \"text\": \"\", \"x\": [\"AUSTIN ISD\", \"DEL VALLE ISD\", \"DRIPPING SPRINGS ISD\", \"EANES ISD\", \"GEORGETOWN ISD\", \"HAYS CISD\", \"HUTTO ISD\", \"LAGO VISTA ISD\", \"LAKE TRAVIS ISD\", \"LEANDER ISD\", \"MANOR ISD\", \"PFLUGERVILLE ISD\", \"ROUND ROCK ISD\"], \"y\": [83648.0, 11559.0, 5619.0, 8075.0, 10997.0, 18654.0, 6527.0, 1437.0, 9238.0, 37158.0, 8873.0, 24100.0, 47827.0], \"type\": \"bar\", \"uid\": \"0332a4fb-6454-4a06-8967-cd27889a4902\"}, {\"marker\": {\"color\": \"rgba(251, 193, 94, 0.6)\", \"line\": {\"color\": \"rgba(251, 193, 94, 1.0)\", \"width\": 1}}, \"name\": \"('TOTAL ENROLLMENT', '2016-2017')\", \"orientation\": \"v\", \"text\": \"\", \"x\": [\"AUSTIN ISD\", \"DEL VALLE ISD\", \"DRIPPING SPRINGS ISD\", \"EANES ISD\", \"GEORGETOWN ISD\", \"HAYS CISD\", \"HUTTO ISD\", \"LAGO VISTA ISD\", \"LAKE TRAVIS ISD\", \"LEANDER ISD\", \"MANOR ISD\", \"PFLUGERVILLE ISD\", \"ROUND ROCK ISD\"], \"y\": [83067.0, 11278.0, 6008.0, 8134.0, 11425.0, 19215.0, 6945.0, 1449.0, 9825.0, 38226.0, 8870.0, 24591.0, 48321.0], \"type\": \"bar\", \"uid\": \"51ac834f-19b4-4459-9975-bdd5ed408baf\"}, {\"marker\": {\"color\": \"rgba(142, 186, 66, 0.6)\", \"line\": {\"color\": \"rgba(142, 186, 66, 1.0)\", \"width\": 1}}, \"name\": \"('TOTAL ENROLLMENT', '2017-2018')\", \"orientation\": \"v\", \"text\": \"\", \"x\": [\"AUSTIN ISD\", \"DEL VALLE ISD\", \"DRIPPING SPRINGS ISD\", \"EANES ISD\", \"GEORGETOWN ISD\", \"HAYS CISD\", \"HUTTO ISD\", \"LAGO VISTA ISD\", \"LAKE TRAVIS ISD\", \"LEANDER ISD\", \"MANOR ISD\", \"PFLUGERVILLE ISD\", \"ROUND ROCK ISD\"], \"y\": [81650.0, 11216.0, 6450.0, 8061.0, 11537.0, 19862.0, 7240.0, 1475.0, 10410.0, 39028.0, 9109.0, 25306.0, 49086.0], \"type\": \"bar\", \"uid\": \"d38bf66e-5b5b-4b86-aaea-72cb9e6008dc\"}, {\"marker\": {\"color\": \"rgba(255, 181, 184, 0.6)\", \"line\": {\"color\": \"rgba(255, 181, 184, 1.0)\", \"width\": 1}}, \"name\": \"('TOTAL ENROLLMENT', '2018-2019')\", \"orientation\": \"v\", \"text\": \"\", \"x\": [\"AUSTIN ISD\", \"DEL VALLE ISD\", \"DRIPPING SPRINGS ISD\", \"EANES ISD\", \"GEORGETOWN ISD\", \"HAYS CISD\", \"HUTTO ISD\", \"LAGO VISTA ISD\", \"LAKE TRAVIS ISD\", \"LEANDER ISD\", \"MANOR ISD\", \"PFLUGERVILLE ISD\", \"ROUND ROCK ISD\"], \"y\": [80032.0, 10870.0, 6873.0, 8132.0, 11759.0, 19925.0, 7592.0, 1530.0, 10738.0, 40031.0, 9463.0, 25405.0, 50387.0], \"type\": \"bar\", \"uid\": \"5bd0c7da-5e70-4580-b7d8-b42e3b175982\"}], {\"legend\": {\"bgcolor\": \"#FFFFFF\", \"font\": {\"color\": \"#666666\"}}, \"paper_bgcolor\": \"#FFFFFF\", \"plot_bgcolor\": \"#E5E5E5\", \"title\": {\"text\": \"Autin Area ISDs\", \"font\": {\"color\": \"#151516\"}}, \"xaxis\": {\"gridcolor\": \"#F6F6F6\", \"showgrid\": true, \"tickfont\": {\"color\": \"#666666\"}, \"title\": {\"text\": \"\", \"font\": {\"color\": \"#666666\"}}, \"zerolinecolor\": \"#F6F6F6\"}, \"yaxis\": {\"gridcolor\": \"#F6F6F6\", \"showgrid\": true, \"tickfont\": {\"color\": \"#666666\"}, \"title\": {\"text\": \"\", \"font\": {\"color\": \"#666666\"}}, \"zerolinecolor\": \"#F6F6F6\"}}, {\"showLink\": true, \"linkText\": \"Export to plot.ly\", \"plotlyServerURL\": \"https://plot.ly\"})});</script><script type=\"text/javascript\">window.addEventListener(\"resize\", function(){window._Plotly.Plots.resize(document.getElementById(\"29249408-7738-4624-bc1a-0b7f34db1d4a\"));});</script>"
      ]
     },
     "metadata": {},
     "output_type": "display_data"
    }
   ],
   "source": [
    "#Plot enrollments of all Austin area I\n",
    "wk_pivot = wk_plot.pivot(index='DISTRICT NAME', columns='YEAR')\n",
    "cf.set_config_file(offline=True, world_readable=False, theme='ggplot')\n",
    "wk_pivot.iplot(kind='bar',title='Autin Area ISDs')\n"
   ]
  },
  {
   "cell_type": "code",
   "execution_count": 21,
   "metadata": {
    "collapsed": true
   },
   "outputs": [],
   "source": [
    "t1_plot = aus_area_df.groupby([\"DISTRICT NAME\", \"YEAR\"])['TOTAL TITLE I STUDENTS'].mean().reset_index()"
   ]
  },
  {
   "cell_type": "code",
   "execution_count": 22,
   "metadata": {},
   "outputs": [
    {
     "name": "stderr",
     "output_type": "stream",
     "text": [
      "IOPub data rate exceeded.\n",
      "The notebook server will temporarily stop sending output\n",
      "to the client in order to avoid crashing it.\n",
      "To change this limit, set the config variable\n",
      "`--NotebookApp.iopub_data_rate_limit`.\n"
     ]
    },
    {
     "data": {
      "application/vnd.plotly.v1+json": {
       "config": {
        "linkText": "Export to plot.ly",
        "plotlyServerURL": "https://plot.ly",
        "showLink": true
       },
       "data": [
        {
         "marker": {
          "color": "rgba(226, 74, 51, 0.6)",
          "line": {
           "color": "rgba(226, 74, 51, 1.0)",
           "width": 1
          }
         },
         "name": "('TOTAL TITLE I STUDENTS', '2012-2013')",
         "orientation": "v",
         "text": "",
         "type": "bar",
         "uid": "d41cf8ad-8e0f-4f4f-9b38-92700c42db18",
         "x": [
          "AUSTIN ISD",
          "DEL VALLE ISD",
          "DRIPPING SPRINGS ISD",
          "EANES ISD",
          "GEORGETOWN ISD",
          "HAYS CISD",
          "HUTTO ISD",
          "LAGO VISTA ISD",
          "LAKE TRAVIS ISD",
          "LEANDER ISD",
          "MANOR ISD",
          "PFLUGERVILLE ISD",
          "ROUND ROCK ISD"
         ],
         "y": [
          43098,
          8551,
          1580,
          85,
          5488,
          9042,
          3059,
          86,
          1062,
          2788,
          4636,
          12656,
          8647
         ]
        },
        {
         "marker": {
          "color": "rgba(62, 111, 176, 0.6)",
          "line": {
           "color": "rgba(62, 111, 176, 1.0)",
           "width": 1
          }
         },
         "name": "('TOTAL TITLE I STUDENTS', '2013-2014')",
         "orientation": "v",
         "text": "",
         "type": "bar",
         "uid": "662ab493-0839-4226-8d37-b196faf07c89",
         "x": [
          "AUSTIN ISD",
          "DEL VALLE ISD",
          "DRIPPING SPRINGS ISD",
          "EANES ISD",
          "GEORGETOWN ISD",
          "HAYS CISD",
          "HUTTO ISD",
          "LAGO VISTA ISD",
          "LAKE TRAVIS ISD",
          "LEANDER ISD",
          "MANOR ISD",
          "PFLUGERVILLE ISD",
          "ROUND ROCK ISD"
         ],
         "y": [
          41817,
          8754,
          1669,
          97,
          3398,
          9371,
          4375,
          98,
          318,
          2734,
          4909,
          12635,
          9164
         ]
        },
        {
         "marker": {
          "color": "rgba(132, 118, 202, 0.6)",
          "line": {
           "color": "rgba(132, 118, 202, 1.0)",
           "width": 1
          }
         },
         "name": "('TOTAL TITLE I STUDENTS', '2014-2015')",
         "orientation": "v",
         "text": "",
         "type": "bar",
         "uid": "0c8de25b-e9e3-44b4-b2be-5eb5b7244863",
         "x": [
          "AUSTIN ISD",
          "DEL VALLE ISD",
          "DRIPPING SPRINGS ISD",
          "EANES ISD",
          "GEORGETOWN ISD",
          "HAYS CISD",
          "HUTTO ISD",
          "LAGO VISTA ISD",
          "LAKE TRAVIS ISD",
          "LEANDER ISD",
          "MANOR ISD",
          "PFLUGERVILLE ISD",
          "ROUND ROCK ISD"
         ],
         "y": [
          40307,
          906,
          1778,
          175,
          3435,
          10172,
          4515,
          77,
          1046,
          2784,
          4927,
          15202,
          11555
         ]
        },
        {
         "marker": {
          "color": "rgba(101, 101, 101, 0.6)",
          "line": {
           "color": "rgba(101, 101, 101, 1.0)",
           "width": 1
          }
         },
         "name": "('TOTAL TITLE I STUDENTS', '2015-2016')",
         "orientation": "v",
         "text": "",
         "type": "bar",
         "uid": "e6a33599-414a-4e2a-9957-34d9d3a19fd7",
         "x": [
          "AUSTIN ISD",
          "DEL VALLE ISD",
          "DRIPPING SPRINGS ISD",
          "EANES ISD",
          "GEORGETOWN ISD",
          "HAYS CISD",
          "HUTTO ISD",
          "LAGO VISTA ISD",
          "LAKE TRAVIS ISD",
          "LEANDER ISD",
          "MANOR ISD",
          "PFLUGERVILLE ISD",
          "ROUND ROCK ISD"
         ],
         "y": [
          45120,
          11358,
          1822,
          67,
          3359,
          10392,
          4748,
          75,
          1065,
          3994,
          5004,
          14958,
          11357
         ]
        },
        {
         "marker": {
          "color": "rgba(251, 193, 94, 0.6)",
          "line": {
           "color": "rgba(251, 193, 94, 1.0)",
           "width": 1
          }
         },
         "name": "('TOTAL TITLE I STUDENTS', '2016-2017')",
         "orientation": "v",
         "text": "",
         "type": "bar",
         "uid": "d0aed8a5-14af-4a7e-8786-e0972a6eac9a",
         "x": [
          "AUSTIN ISD",
          "DEL VALLE ISD",
          "DRIPPING SPRINGS ISD",
          "EANES ISD",
          "GEORGETOWN ISD",
          "HAYS CISD",
          "HUTTO ISD",
          "LAGO VISTA ISD",
          "LAKE TRAVIS ISD",
          "LEANDER ISD",
          "MANOR ISD",
          "PFLUGERVILLE ISD",
          "ROUND ROCK ISD"
         ],
         "y": [
          44375,
          11123,
          1885,
          145,
          2293,
          9647,
          5039,
          87,
          1069,
          4262,
          4895,
          17531,
          10046
         ]
        },
        {
         "marker": {
          "color": "rgba(142, 186, 66, 0.6)",
          "line": {
           "color": "rgba(142, 186, 66, 1.0)",
           "width": 1
          }
         },
         "name": "('TOTAL TITLE I STUDENTS', '2017-2018')",
         "orientation": "v",
         "text": "",
         "type": "bar",
         "uid": "b97cfdfc-3260-4d94-8467-3c52678d4d0b",
         "x": [
          "AUSTIN ISD",
          "DEL VALLE ISD",
          "DRIPPING SPRINGS ISD",
          "EANES ISD",
          "GEORGETOWN ISD",
          "HAYS CISD",
          "HUTTO ISD",
          "LAGO VISTA ISD",
          "LAKE TRAVIS ISD",
          "LEANDER ISD",
          "MANOR ISD",
          "PFLUGERVILLE ISD",
          "ROUND ROCK ISD"
         ],
         "y": [
          42378,
          11010,
          1486,
          143,
          4107,
          10468,
          5250,
          120,
          1082,
          4250,
          4945,
          17936,
          10686
         ]
        },
        {
         "marker": {
          "color": "rgba(255, 181, 184, 0.6)",
          "line": {
           "color": "rgba(255, 181, 184, 1.0)",
           "width": 1
          }
         },
         "name": "('TOTAL TITLE I STUDENTS', '2018-2019')",
         "orientation": "v",
         "text": "",
         "type": "bar",
         "uid": "22885aef-b1eb-4919-9dc3-23c927586aeb",
         "x": [
          "AUSTIN ISD",
          "DEL VALLE ISD",
          "DRIPPING SPRINGS ISD",
          "EANES ISD",
          "GEORGETOWN ISD",
          "HAYS CISD",
          "HUTTO ISD",
          "LAGO VISTA ISD",
          "LAKE TRAVIS ISD",
          "LEANDER ISD",
          "MANOR ISD",
          "PFLUGERVILLE ISD",
          "ROUND ROCK ISD"
         ],
         "y": [
          40203,
          10696,
          1567,
          182,
          4126,
          10316,
          4749,
          101,
          1170,
          7681,
          4909,
          18746,
          11189
         ]
        }
       ],
       "layout": {
        "legend": {
         "bgcolor": "#FFFFFF",
         "font": {
          "color": "#666666"
         }
        },
        "paper_bgcolor": "#FFFFFF",
        "plot_bgcolor": "#E5E5E5",
        "title": {
         "font": {
          "color": "#151516"
         },
         "text": "Autin Area ISDs Title 1 Status"
        },
        "xaxis": {
         "gridcolor": "#F6F6F6",
         "showgrid": true,
         "tickfont": {
          "color": "#666666"
         },
         "title": {
          "font": {
           "color": "#666666"
          },
          "text": ""
         },
         "zerolinecolor": "#F6F6F6"
        },
        "yaxis": {
         "gridcolor": "#F6F6F6",
         "showgrid": true,
         "tickfont": {
          "color": "#666666"
         },
         "title": {
          "font": {
           "color": "#666666"
          },
          "text": ""
         },
         "zerolinecolor": "#F6F6F6"
        }
       }
      },
      "text/html": [
       "<div id=\"25305d58-b536-4ddb-8f63-a79739bb464f\" style=\"height: 525px; width: 100%;\" class=\"plotly-graph-div\"></div><script type=\"text/javascript\">require([\"plotly\"], function(Plotly) { window.PLOTLYENV=window.PLOTLYENV || {};window.PLOTLYENV.BASE_URL=\"https://plot.ly\";Plotly.newPlot(\"25305d58-b536-4ddb-8f63-a79739bb464f\", [{\"marker\": {\"color\": \"rgba(226, 74, 51, 0.6)\", \"line\": {\"color\": \"rgba(226, 74, 51, 1.0)\", \"width\": 1}}, \"name\": \"('TOTAL TITLE I STUDENTS', '2012-2013')\", \"orientation\": \"v\", \"text\": \"\", \"x\": [\"AUSTIN ISD\", \"DEL VALLE ISD\", \"DRIPPING SPRINGS ISD\", \"EANES ISD\", \"GEORGETOWN ISD\", \"HAYS CISD\", \"HUTTO ISD\", \"LAGO VISTA ISD\", \"LAKE TRAVIS ISD\", \"LEANDER ISD\", \"MANOR ISD\", \"PFLUGERVILLE ISD\", \"ROUND ROCK ISD\"], \"y\": [43098.0, 8551.0, 1580.0, 85.0, 5488.0, 9042.0, 3059.0, 86.0, 1062.0, 2788.0, 4636.0, 12656.0, 8647.0], \"type\": \"bar\", \"uid\": \"f2d8d6b0-6aed-46a6-a335-a015947e83a3\"}, {\"marker\": {\"color\": \"rgba(62, 111, 176, 0.6)\", \"line\": {\"color\": \"rgba(62, 111, 176, 1.0)\", \"width\": 1}}, \"name\": \"('TOTAL TITLE I STUDENTS', '2013-2014')\", \"orientation\": \"v\", \"text\": \"\", \"x\": [\"AUSTIN ISD\", \"DEL VALLE ISD\", \"DRIPPING SPRINGS ISD\", \"EANES ISD\", \"GEORGETOWN ISD\", \"HAYS CISD\", \"HUTTO ISD\", \"LAGO VISTA ISD\", \"LAKE TRAVIS ISD\", \"LEANDER ISD\", \"MANOR ISD\", \"PFLUGERVILLE ISD\", \"ROUND ROCK ISD\"], \"y\": [41817.0, 8754.0, 1669.0, 97.0, 3398.0, 9371.0, 4375.0, 98.0, 318.0, 2734.0, 4909.0, 12635.0, 9164.0], \"type\": \"bar\", \"uid\": \"121f76cd-d112-44ab-9465-3fd1d66ffc50\"}, {\"marker\": {\"color\": \"rgba(132, 118, 202, 0.6)\", \"line\": {\"color\": \"rgba(132, 118, 202, 1.0)\", \"width\": 1}}, \"name\": \"('TOTAL TITLE I STUDENTS', '2014-2015')\", \"orientation\": \"v\", \"text\": \"\", \"x\": [\"AUSTIN ISD\", \"DEL VALLE ISD\", \"DRIPPING SPRINGS ISD\", \"EANES ISD\", \"GEORGETOWN ISD\", \"HAYS CISD\", \"HUTTO ISD\", \"LAGO VISTA ISD\", \"LAKE TRAVIS ISD\", \"LEANDER ISD\", \"MANOR ISD\", \"PFLUGERVILLE ISD\", \"ROUND ROCK ISD\"], \"y\": [40307.0, 906.0, 1778.0, 175.0, 3435.0, 10172.0, 4515.0, 77.0, 1046.0, 2784.0, 4927.0, 15202.0, 11555.0], \"type\": \"bar\", \"uid\": \"ab6190e0-47da-4bec-bbb2-416787c54783\"}, {\"marker\": {\"color\": \"rgba(101, 101, 101, 0.6)\", \"line\": {\"color\": \"rgba(101, 101, 101, 1.0)\", \"width\": 1}}, \"name\": \"('TOTAL TITLE I STUDENTS', '2015-2016')\", \"orientation\": \"v\", \"text\": \"\", \"x\": [\"AUSTIN ISD\", \"DEL VALLE ISD\", \"DRIPPING SPRINGS ISD\", \"EANES ISD\", \"GEORGETOWN ISD\", \"HAYS CISD\", \"HUTTO ISD\", \"LAGO VISTA ISD\", \"LAKE TRAVIS ISD\", \"LEANDER ISD\", \"MANOR ISD\", \"PFLUGERVILLE ISD\", \"ROUND ROCK ISD\"], \"y\": [45120.0, 11358.0, 1822.0, 67.0, 3359.0, 10392.0, 4748.0, 75.0, 1065.0, 3994.0, 5004.0, 14958.0, 11357.0], \"type\": \"bar\", \"uid\": \"ea600b10-df1c-4bba-814d-1741276d2839\"}, {\"marker\": {\"color\": \"rgba(251, 193, 94, 0.6)\", \"line\": {\"color\": \"rgba(251, 193, 94, 1.0)\", \"width\": 1}}, \"name\": \"('TOTAL TITLE I STUDENTS', '2016-2017')\", \"orientation\": \"v\", \"text\": \"\", \"x\": [\"AUSTIN ISD\", \"DEL VALLE ISD\", \"DRIPPING SPRINGS ISD\", \"EANES ISD\", \"GEORGETOWN ISD\", \"HAYS CISD\", \"HUTTO ISD\", \"LAGO VISTA ISD\", \"LAKE TRAVIS ISD\", \"LEANDER ISD\", \"MANOR ISD\", \"PFLUGERVILLE ISD\", \"ROUND ROCK ISD\"], \"y\": [44375.0, 11123.0, 1885.0, 145.0, 2293.0, 9647.0, 5039.0, 87.0, 1069.0, 4262.0, 4895.0, 17531.0, 10046.0], \"type\": \"bar\", \"uid\": \"278d6a05-0686-470e-ad3d-b260d381c6f9\"}, {\"marker\": {\"color\": \"rgba(142, 186, 66, 0.6)\", \"line\": {\"color\": \"rgba(142, 186, 66, 1.0)\", \"width\": 1}}, \"name\": \"('TOTAL TITLE I STUDENTS', '2017-2018')\", \"orientation\": \"v\", \"text\": \"\", \"x\": [\"AUSTIN ISD\", \"DEL VALLE ISD\", \"DRIPPING SPRINGS ISD\", \"EANES ISD\", \"GEORGETOWN ISD\", \"HAYS CISD\", \"HUTTO ISD\", \"LAGO VISTA ISD\", \"LAKE TRAVIS ISD\", \"LEANDER ISD\", \"MANOR ISD\", \"PFLUGERVILLE ISD\", \"ROUND ROCK ISD\"], \"y\": [42378.0, 11010.0, 1486.0, 143.0, 4107.0, 10468.0, 5250.0, 120.0, 1082.0, 4250.0, 4945.0, 17936.0, 10686.0], \"type\": \"bar\", \"uid\": \"00b63740-5650-4f84-8efb-65fdefcc3a9d\"}, {\"marker\": {\"color\": \"rgba(255, 181, 184, 0.6)\", \"line\": {\"color\": \"rgba(255, 181, 184, 1.0)\", \"width\": 1}}, \"name\": \"('TOTAL TITLE I STUDENTS', '2018-2019')\", \"orientation\": \"v\", \"text\": \"\", \"x\": [\"AUSTIN ISD\", \"DEL VALLE ISD\", \"DRIPPING SPRINGS ISD\", \"EANES ISD\", \"GEORGETOWN ISD\", \"HAYS CISD\", \"HUTTO ISD\", \"LAGO VISTA ISD\", \"LAKE TRAVIS ISD\", \"LEANDER ISD\", \"MANOR ISD\", \"PFLUGERVILLE ISD\", \"ROUND ROCK ISD\"], \"y\": [40203.0, 10696.0, 1567.0, 182.0, 4126.0, 10316.0, 4749.0, 101.0, 1170.0, 7681.0, 4909.0, 18746.0, 11189.0], \"type\": \"bar\", \"uid\": \"79b1052d-4ec3-43b1-8434-24253fdb95a3\"}], {\"legend\": {\"bgcolor\": \"#FFFFFF\", \"font\": {\"color\": \"#666666\"}}, \"paper_bgcolor\": \"#FFFFFF\", \"plot_bgcolor\": \"#E5E5E5\", \"title\": {\"text\": \"Autin Area ISDs Title 1 Status\", \"font\": {\"color\": \"#151516\"}}, \"xaxis\": {\"gridcolor\": \"#F6F6F6\", \"showgrid\": true, \"tickfont\": {\"color\": \"#666666\"}, \"title\": {\"text\": \"\", \"font\": {\"color\": \"#666666\"}}, \"zerolinecolor\": \"#F6F6F6\"}, \"yaxis\": {\"gridcolor\": \"#F6F6F6\", \"showgrid\": true, \"tickfont\": {\"color\": \"#666666\"}, \"title\": {\"text\": \"\", \"font\": {\"color\": \"#666666\"}}, \"zerolinecolor\": \"#F6F6F6\"}}, {\"showLink\": true, \"linkText\": \"Export to plot.ly\", \"plotlyServerURL\": \"https://plot.ly\"})});</script><script type=\"text/javascript\">window.addEventListener(\"resize\", function(){window._Plotly.Plots.resize(document.getElementById(\"25305d58-b536-4ddb-8f63-a79739bb464f\"));});</script>"
      ],
      "text/vnd.plotly.v1+html": [
       "<div id=\"25305d58-b536-4ddb-8f63-a79739bb464f\" style=\"height: 525px; width: 100%;\" class=\"plotly-graph-div\"></div><script type=\"text/javascript\">require([\"plotly\"], function(Plotly) { window.PLOTLYENV=window.PLOTLYENV || {};window.PLOTLYENV.BASE_URL=\"https://plot.ly\";Plotly.newPlot(\"25305d58-b536-4ddb-8f63-a79739bb464f\", [{\"marker\": {\"color\": \"rgba(226, 74, 51, 0.6)\", \"line\": {\"color\": \"rgba(226, 74, 51, 1.0)\", \"width\": 1}}, \"name\": \"('TOTAL TITLE I STUDENTS', '2012-2013')\", \"orientation\": \"v\", \"text\": \"\", \"x\": [\"AUSTIN ISD\", \"DEL VALLE ISD\", \"DRIPPING SPRINGS ISD\", \"EANES ISD\", \"GEORGETOWN ISD\", \"HAYS CISD\", \"HUTTO ISD\", \"LAGO VISTA ISD\", \"LAKE TRAVIS ISD\", \"LEANDER ISD\", \"MANOR ISD\", \"PFLUGERVILLE ISD\", \"ROUND ROCK ISD\"], \"y\": [43098.0, 8551.0, 1580.0, 85.0, 5488.0, 9042.0, 3059.0, 86.0, 1062.0, 2788.0, 4636.0, 12656.0, 8647.0], \"type\": \"bar\", \"uid\": \"f2d8d6b0-6aed-46a6-a335-a015947e83a3\"}, {\"marker\": {\"color\": \"rgba(62, 111, 176, 0.6)\", \"line\": {\"color\": \"rgba(62, 111, 176, 1.0)\", \"width\": 1}}, \"name\": \"('TOTAL TITLE I STUDENTS', '2013-2014')\", \"orientation\": \"v\", \"text\": \"\", \"x\": [\"AUSTIN ISD\", \"DEL VALLE ISD\", \"DRIPPING SPRINGS ISD\", \"EANES ISD\", \"GEORGETOWN ISD\", \"HAYS CISD\", \"HUTTO ISD\", \"LAGO VISTA ISD\", \"LAKE TRAVIS ISD\", \"LEANDER ISD\", \"MANOR ISD\", \"PFLUGERVILLE ISD\", \"ROUND ROCK ISD\"], \"y\": [41817.0, 8754.0, 1669.0, 97.0, 3398.0, 9371.0, 4375.0, 98.0, 318.0, 2734.0, 4909.0, 12635.0, 9164.0], \"type\": \"bar\", \"uid\": \"121f76cd-d112-44ab-9465-3fd1d66ffc50\"}, {\"marker\": {\"color\": \"rgba(132, 118, 202, 0.6)\", \"line\": {\"color\": \"rgba(132, 118, 202, 1.0)\", \"width\": 1}}, \"name\": \"('TOTAL TITLE I STUDENTS', '2014-2015')\", \"orientation\": \"v\", \"text\": \"\", \"x\": [\"AUSTIN ISD\", \"DEL VALLE ISD\", \"DRIPPING SPRINGS ISD\", \"EANES ISD\", \"GEORGETOWN ISD\", \"HAYS CISD\", \"HUTTO ISD\", \"LAGO VISTA ISD\", \"LAKE TRAVIS ISD\", \"LEANDER ISD\", \"MANOR ISD\", \"PFLUGERVILLE ISD\", \"ROUND ROCK ISD\"], \"y\": [40307.0, 906.0, 1778.0, 175.0, 3435.0, 10172.0, 4515.0, 77.0, 1046.0, 2784.0, 4927.0, 15202.0, 11555.0], \"type\": \"bar\", \"uid\": \"ab6190e0-47da-4bec-bbb2-416787c54783\"}, {\"marker\": {\"color\": \"rgba(101, 101, 101, 0.6)\", \"line\": {\"color\": \"rgba(101, 101, 101, 1.0)\", \"width\": 1}}, \"name\": \"('TOTAL TITLE I STUDENTS', '2015-2016')\", \"orientation\": \"v\", \"text\": \"\", \"x\": [\"AUSTIN ISD\", \"DEL VALLE ISD\", \"DRIPPING SPRINGS ISD\", \"EANES ISD\", \"GEORGETOWN ISD\", \"HAYS CISD\", \"HUTTO ISD\", \"LAGO VISTA ISD\", \"LAKE TRAVIS ISD\", \"LEANDER ISD\", \"MANOR ISD\", \"PFLUGERVILLE ISD\", \"ROUND ROCK ISD\"], \"y\": [45120.0, 11358.0, 1822.0, 67.0, 3359.0, 10392.0, 4748.0, 75.0, 1065.0, 3994.0, 5004.0, 14958.0, 11357.0], \"type\": \"bar\", \"uid\": \"ea600b10-df1c-4bba-814d-1741276d2839\"}, {\"marker\": {\"color\": \"rgba(251, 193, 94, 0.6)\", \"line\": {\"color\": \"rgba(251, 193, 94, 1.0)\", \"width\": 1}}, \"name\": \"('TOTAL TITLE I STUDENTS', '2016-2017')\", \"orientation\": \"v\", \"text\": \"\", \"x\": [\"AUSTIN ISD\", \"DEL VALLE ISD\", \"DRIPPING SPRINGS ISD\", \"EANES ISD\", \"GEORGETOWN ISD\", \"HAYS CISD\", \"HUTTO ISD\", \"LAGO VISTA ISD\", \"LAKE TRAVIS ISD\", \"LEANDER ISD\", \"MANOR ISD\", \"PFLUGERVILLE ISD\", \"ROUND ROCK ISD\"], \"y\": [44375.0, 11123.0, 1885.0, 145.0, 2293.0, 9647.0, 5039.0, 87.0, 1069.0, 4262.0, 4895.0, 17531.0, 10046.0], \"type\": \"bar\", \"uid\": \"278d6a05-0686-470e-ad3d-b260d381c6f9\"}, {\"marker\": {\"color\": \"rgba(142, 186, 66, 0.6)\", \"line\": {\"color\": \"rgba(142, 186, 66, 1.0)\", \"width\": 1}}, \"name\": \"('TOTAL TITLE I STUDENTS', '2017-2018')\", \"orientation\": \"v\", \"text\": \"\", \"x\": [\"AUSTIN ISD\", \"DEL VALLE ISD\", \"DRIPPING SPRINGS ISD\", \"EANES ISD\", \"GEORGETOWN ISD\", \"HAYS CISD\", \"HUTTO ISD\", \"LAGO VISTA ISD\", \"LAKE TRAVIS ISD\", \"LEANDER ISD\", \"MANOR ISD\", \"PFLUGERVILLE ISD\", \"ROUND ROCK ISD\"], \"y\": [42378.0, 11010.0, 1486.0, 143.0, 4107.0, 10468.0, 5250.0, 120.0, 1082.0, 4250.0, 4945.0, 17936.0, 10686.0], \"type\": \"bar\", \"uid\": \"00b63740-5650-4f84-8efb-65fdefcc3a9d\"}, {\"marker\": {\"color\": \"rgba(255, 181, 184, 0.6)\", \"line\": {\"color\": \"rgba(255, 181, 184, 1.0)\", \"width\": 1}}, \"name\": \"('TOTAL TITLE I STUDENTS', '2018-2019')\", \"orientation\": \"v\", \"text\": \"\", \"x\": [\"AUSTIN ISD\", \"DEL VALLE ISD\", \"DRIPPING SPRINGS ISD\", \"EANES ISD\", \"GEORGETOWN ISD\", \"HAYS CISD\", \"HUTTO ISD\", \"LAGO VISTA ISD\", \"LAKE TRAVIS ISD\", \"LEANDER ISD\", \"MANOR ISD\", \"PFLUGERVILLE ISD\", \"ROUND ROCK ISD\"], \"y\": [40203.0, 10696.0, 1567.0, 182.0, 4126.0, 10316.0, 4749.0, 101.0, 1170.0, 7681.0, 4909.0, 18746.0, 11189.0], \"type\": \"bar\", \"uid\": \"79b1052d-4ec3-43b1-8434-24253fdb95a3\"}], {\"legend\": {\"bgcolor\": \"#FFFFFF\", \"font\": {\"color\": \"#666666\"}}, \"paper_bgcolor\": \"#FFFFFF\", \"plot_bgcolor\": \"#E5E5E5\", \"title\": {\"text\": \"Autin Area ISDs Title 1 Status\", \"font\": {\"color\": \"#151516\"}}, \"xaxis\": {\"gridcolor\": \"#F6F6F6\", \"showgrid\": true, \"tickfont\": {\"color\": \"#666666\"}, \"title\": {\"text\": \"\", \"font\": {\"color\": \"#666666\"}}, \"zerolinecolor\": \"#F6F6F6\"}, \"yaxis\": {\"gridcolor\": \"#F6F6F6\", \"showgrid\": true, \"tickfont\": {\"color\": \"#666666\"}, \"title\": {\"text\": \"\", \"font\": {\"color\": \"#666666\"}}, \"zerolinecolor\": \"#F6F6F6\"}}, {\"showLink\": true, \"linkText\": \"Export to plot.ly\", \"plotlyServerURL\": \"https://plot.ly\"})});</script><script type=\"text/javascript\">window.addEventListener(\"resize\", function(){window._Plotly.Plots.resize(document.getElementById(\"25305d58-b536-4ddb-8f63-a79739bb464f\"));});</script>"
      ]
     },
     "metadata": {},
     "output_type": "display_data"
    }
   ],
   "source": [
    "t1_pivot = t1_plot.pivot(index='DISTRICT NAME', columns='YEAR')\n",
    "cf.set_config_file(offline=True, world_readable=False, theme='ggplot')\n",
    "t1_pivot.iplot(kind='bar',title='Autin Area ISDs Title 1 Status')"
   ]
  },
  {
   "cell_type": "code",
   "execution_count": 23,
   "metadata": {
    "collapsed": true
   },
   "outputs": [],
   "source": [
    "t1_pct_plot = aus_area_df.groupby([\"DISTRICT NAME\", \"YEAR\"])['PCT_T1'].mean().reset_index()"
   ]
  },
  {
   "cell_type": "code",
   "execution_count": 24,
   "metadata": {},
   "outputs": [
    {
     "name": "stderr",
     "output_type": "stream",
     "text": [
      "IOPub data rate exceeded.\n",
      "The notebook server will temporarily stop sending output\n",
      "to the client in order to avoid crashing it.\n",
      "To change this limit, set the config variable\n",
      "`--NotebookApp.iopub_data_rate_limit`.\n"
     ]
    },
    {
     "data": {
      "application/vnd.plotly.v1+json": {
       "config": {
        "linkText": "Export to plot.ly",
        "plotlyServerURL": "https://plot.ly",
        "showLink": true
       },
       "data": [
        {
         "marker": {
          "color": "rgba(226, 74, 51, 0.6)",
          "line": {
           "color": "rgba(226, 74, 51, 1.0)",
           "width": 1
          }
         },
         "name": "('PCT_T1', '2012-2013')",
         "orientation": "v",
         "text": "",
         "type": "bar",
         "uid": "206283a5-f960-4e0c-b486-c4e7adb93df2",
         "x": [
          "AUSTIN ISD",
          "DEL VALLE ISD",
          "DRIPPING SPRINGS ISD",
          "EANES ISD",
          "GEORGETOWN ISD",
          "HAYS CISD",
          "HUTTO ISD",
          "LAGO VISTA ISD",
          "LAKE TRAVIS ISD",
          "LEANDER ISD",
          "MANOR ISD",
          "PFLUGERVILLE ISD",
          "ROUND ROCK ISD"
         ],
         "y": [
          50,
          75,
          33,
          1,
          53,
          55,
          53,
          6,
          14,
          8,
          57,
          54,
          19
         ]
        },
        {
         "marker": {
          "color": "rgba(62, 111, 176, 0.6)",
          "line": {
           "color": "rgba(62, 111, 176, 1.0)",
           "width": 1
          }
         },
         "name": "('PCT_T1', '2013-2014')",
         "orientation": "v",
         "text": "",
         "type": "bar",
         "uid": "8e709898-1a20-4696-a952-c5412a02dd7f",
         "x": [
          "AUSTIN ISD",
          "DEL VALLE ISD",
          "DRIPPING SPRINGS ISD",
          "EANES ISD",
          "GEORGETOWN ISD",
          "HAYS CISD",
          "HUTTO ISD",
          "LAGO VISTA ISD",
          "LAKE TRAVIS ISD",
          "LEANDER ISD",
          "MANOR ISD",
          "PFLUGERVILLE ISD",
          "ROUND ROCK ISD"
         ],
         "y": [
          49,
          75,
          33,
          1,
          32,
          54,
          74,
          7,
          4,
          8,
          57,
          54,
          20
         ]
        },
        {
         "marker": {
          "color": "rgba(132, 118, 202, 0.6)",
          "line": {
           "color": "rgba(132, 118, 202, 1.0)",
           "width": 1
          }
         },
         "name": "('PCT_T1', '2014-2015')",
         "orientation": "v",
         "text": "",
         "type": "bar",
         "uid": "b7f90756-b3b5-4160-a551-90680345cf0b",
         "x": [
          "AUSTIN ISD",
          "DEL VALLE ISD",
          "DRIPPING SPRINGS ISD",
          "EANES ISD",
          "GEORGETOWN ISD",
          "HAYS CISD",
          "HUTTO ISD",
          "LAGO VISTA ISD",
          "LAKE TRAVIS ISD",
          "LEANDER ISD",
          "MANOR ISD",
          "PFLUGERVILLE ISD",
          "ROUND ROCK ISD"
         ],
         "y": [
          48,
          8,
          33,
          2,
          32,
          57,
          73,
          6,
          12,
          8,
          56,
          63,
          24
         ]
        },
        {
         "marker": {
          "color": "rgba(101, 101, 101, 0.6)",
          "line": {
           "color": "rgba(101, 101, 101, 1.0)",
           "width": 1
          }
         },
         "name": "('PCT_T1', '2015-2016')",
         "orientation": "v",
         "text": "",
         "type": "bar",
         "uid": "bf3de151-7687-4fbe-955b-9a020b6e8aee",
         "x": [
          "AUSTIN ISD",
          "DEL VALLE ISD",
          "DRIPPING SPRINGS ISD",
          "EANES ISD",
          "GEORGETOWN ISD",
          "HAYS CISD",
          "HUTTO ISD",
          "LAGO VISTA ISD",
          "LAKE TRAVIS ISD",
          "LEANDER ISD",
          "MANOR ISD",
          "PFLUGERVILLE ISD",
          "ROUND ROCK ISD"
         ],
         "y": [
          54,
          98,
          32,
          1,
          31,
          56,
          73,
          5,
          12,
          11,
          56,
          62,
          24
         ]
        },
        {
         "marker": {
          "color": "rgba(251, 193, 94, 0.6)",
          "line": {
           "color": "rgba(251, 193, 94, 1.0)",
           "width": 1
          }
         },
         "name": "('PCT_T1', '2016-2017')",
         "orientation": "v",
         "text": "",
         "type": "bar",
         "uid": "1cc276f5-fa50-44f1-8482-4c60d8840818",
         "x": [
          "AUSTIN ISD",
          "DEL VALLE ISD",
          "DRIPPING SPRINGS ISD",
          "EANES ISD",
          "GEORGETOWN ISD",
          "HAYS CISD",
          "HUTTO ISD",
          "LAGO VISTA ISD",
          "LAKE TRAVIS ISD",
          "LEANDER ISD",
          "MANOR ISD",
          "PFLUGERVILLE ISD",
          "ROUND ROCK ISD"
         ],
         "y": [
          53,
          99,
          31,
          2,
          20,
          50,
          73,
          6,
          11,
          11,
          55,
          71,
          21
         ]
        },
        {
         "marker": {
          "color": "rgba(142, 186, 66, 0.6)",
          "line": {
           "color": "rgba(142, 186, 66, 1.0)",
           "width": 1
          }
         },
         "name": "('PCT_T1', '2017-2018')",
         "orientation": "v",
         "text": "",
         "type": "bar",
         "uid": "6c22faa1-a7aa-448f-9a2f-dba663127d7c",
         "x": [
          "AUSTIN ISD",
          "DEL VALLE ISD",
          "DRIPPING SPRINGS ISD",
          "EANES ISD",
          "GEORGETOWN ISD",
          "HAYS CISD",
          "HUTTO ISD",
          "LAGO VISTA ISD",
          "LAKE TRAVIS ISD",
          "LEANDER ISD",
          "MANOR ISD",
          "PFLUGERVILLE ISD",
          "ROUND ROCK ISD"
         ],
         "y": [
          52,
          98,
          23,
          2,
          36,
          53,
          73,
          8,
          10,
          11,
          54,
          71,
          22
         ]
        },
        {
         "marker": {
          "color": "rgba(255, 181, 184, 0.6)",
          "line": {
           "color": "rgba(255, 181, 184, 1.0)",
           "width": 1
          }
         },
         "name": "('PCT_T1', '2018-2019')",
         "orientation": "v",
         "text": "",
         "type": "bar",
         "uid": "eec36043-5988-4079-9130-fa611a6bc553",
         "x": [
          "AUSTIN ISD",
          "DEL VALLE ISD",
          "DRIPPING SPRINGS ISD",
          "EANES ISD",
          "GEORGETOWN ISD",
          "HAYS CISD",
          "HUTTO ISD",
          "LAGO VISTA ISD",
          "LAKE TRAVIS ISD",
          "LEANDER ISD",
          "MANOR ISD",
          "PFLUGERVILLE ISD",
          "ROUND ROCK ISD"
         ],
         "y": [
          50,
          98,
          23,
          2,
          35,
          52,
          63,
          7,
          11,
          19,
          52,
          74,
          22
         ]
        }
       ],
       "layout": {
        "legend": {
         "bgcolor": "#FFFFFF",
         "font": {
          "color": "#666666"
         }
        },
        "paper_bgcolor": "#FFFFFF",
        "plot_bgcolor": "#E5E5E5",
        "title": {
         "font": {
          "color": "#151516"
         },
         "text": "Autin Area ISDs Title 1 Pecent Status"
        },
        "xaxis": {
         "gridcolor": "#F6F6F6",
         "showgrid": true,
         "tickfont": {
          "color": "#666666"
         },
         "title": {
          "font": {
           "color": "#666666"
          },
          "text": ""
         },
         "zerolinecolor": "#F6F6F6"
        },
        "yaxis": {
         "gridcolor": "#F6F6F6",
         "showgrid": true,
         "tickfont": {
          "color": "#666666"
         },
         "title": {
          "font": {
           "color": "#666666"
          },
          "text": ""
         },
         "zerolinecolor": "#F6F6F6"
        }
       }
      },
      "text/html": [
       "<div id=\"d86515c9-dc25-45c4-927d-5f1ec9697db5\" style=\"height: 525px; width: 100%;\" class=\"plotly-graph-div\"></div><script type=\"text/javascript\">require([\"plotly\"], function(Plotly) { window.PLOTLYENV=window.PLOTLYENV || {};window.PLOTLYENV.BASE_URL=\"https://plot.ly\";Plotly.newPlot(\"d86515c9-dc25-45c4-927d-5f1ec9697db5\", [{\"marker\": {\"color\": \"rgba(226, 74, 51, 0.6)\", \"line\": {\"color\": \"rgba(226, 74, 51, 1.0)\", \"width\": 1}}, \"name\": \"('PCT_T1', '2012-2013')\", \"orientation\": \"v\", \"text\": \"\", \"x\": [\"AUSTIN ISD\", \"DEL VALLE ISD\", \"DRIPPING SPRINGS ISD\", \"EANES ISD\", \"GEORGETOWN ISD\", \"HAYS CISD\", \"HUTTO ISD\", \"LAGO VISTA ISD\", \"LAKE TRAVIS ISD\", \"LEANDER ISD\", \"MANOR ISD\", \"PFLUGERVILLE ISD\", \"ROUND ROCK ISD\"], \"y\": [50.0, 75.0, 33.0, 1.0, 53.0, 55.0, 53.0, 6.0, 14.0, 8.0, 57.0, 54.0, 19.0], \"type\": \"bar\", \"uid\": \"b939456e-be4c-4474-820f-94e0bb43881d\"}, {\"marker\": {\"color\": \"rgba(62, 111, 176, 0.6)\", \"line\": {\"color\": \"rgba(62, 111, 176, 1.0)\", \"width\": 1}}, \"name\": \"('PCT_T1', '2013-2014')\", \"orientation\": \"v\", \"text\": \"\", \"x\": [\"AUSTIN ISD\", \"DEL VALLE ISD\", \"DRIPPING SPRINGS ISD\", \"EANES ISD\", \"GEORGETOWN ISD\", \"HAYS CISD\", \"HUTTO ISD\", \"LAGO VISTA ISD\", \"LAKE TRAVIS ISD\", \"LEANDER ISD\", \"MANOR ISD\", \"PFLUGERVILLE ISD\", \"ROUND ROCK ISD\"], \"y\": [49.0, 75.0, 33.0, 1.0, 32.0, 54.0, 74.0, 7.0, 4.0, 8.0, 57.0, 54.0, 20.0], \"type\": \"bar\", \"uid\": \"6cd81572-ed64-44fd-857a-48340aabe0f3\"}, {\"marker\": {\"color\": \"rgba(132, 118, 202, 0.6)\", \"line\": {\"color\": \"rgba(132, 118, 202, 1.0)\", \"width\": 1}}, \"name\": \"('PCT_T1', '2014-2015')\", \"orientation\": \"v\", \"text\": \"\", \"x\": [\"AUSTIN ISD\", \"DEL VALLE ISD\", \"DRIPPING SPRINGS ISD\", \"EANES ISD\", \"GEORGETOWN ISD\", \"HAYS CISD\", \"HUTTO ISD\", \"LAGO VISTA ISD\", \"LAKE TRAVIS ISD\", \"LEANDER ISD\", \"MANOR ISD\", \"PFLUGERVILLE ISD\", \"ROUND ROCK ISD\"], \"y\": [48.0, 8.0, 33.0, 2.0, 32.0, 57.0, 73.0, 6.0, 12.0, 8.0, 56.0, 63.0, 24.0], \"type\": \"bar\", \"uid\": \"9019b85c-4278-4c17-a4e7-d947e0930507\"}, {\"marker\": {\"color\": \"rgba(101, 101, 101, 0.6)\", \"line\": {\"color\": \"rgba(101, 101, 101, 1.0)\", \"width\": 1}}, \"name\": \"('PCT_T1', '2015-2016')\", \"orientation\": \"v\", \"text\": \"\", \"x\": [\"AUSTIN ISD\", \"DEL VALLE ISD\", \"DRIPPING SPRINGS ISD\", \"EANES ISD\", \"GEORGETOWN ISD\", \"HAYS CISD\", \"HUTTO ISD\", \"LAGO VISTA ISD\", \"LAKE TRAVIS ISD\", \"LEANDER ISD\", \"MANOR ISD\", \"PFLUGERVILLE ISD\", \"ROUND ROCK ISD\"], \"y\": [54.0, 98.0, 32.0, 1.0, 31.0, 56.0, 73.0, 5.0, 12.0, 11.0, 56.0, 62.0, 24.0], \"type\": \"bar\", \"uid\": \"59f30afa-5424-482f-be61-6ad40fe6d933\"}, {\"marker\": {\"color\": \"rgba(251, 193, 94, 0.6)\", \"line\": {\"color\": \"rgba(251, 193, 94, 1.0)\", \"width\": 1}}, \"name\": \"('PCT_T1', '2016-2017')\", \"orientation\": \"v\", \"text\": \"\", \"x\": [\"AUSTIN ISD\", \"DEL VALLE ISD\", \"DRIPPING SPRINGS ISD\", \"EANES ISD\", \"GEORGETOWN ISD\", \"HAYS CISD\", \"HUTTO ISD\", \"LAGO VISTA ISD\", \"LAKE TRAVIS ISD\", \"LEANDER ISD\", \"MANOR ISD\", \"PFLUGERVILLE ISD\", \"ROUND ROCK ISD\"], \"y\": [53.0, 99.0, 31.0, 2.0, 20.0, 50.0, 73.0, 6.0, 11.0, 11.0, 55.0, 71.0, 21.0], \"type\": \"bar\", \"uid\": \"608075a2-883c-4729-a955-325a916cc958\"}, {\"marker\": {\"color\": \"rgba(142, 186, 66, 0.6)\", \"line\": {\"color\": \"rgba(142, 186, 66, 1.0)\", \"width\": 1}}, \"name\": \"('PCT_T1', '2017-2018')\", \"orientation\": \"v\", \"text\": \"\", \"x\": [\"AUSTIN ISD\", \"DEL VALLE ISD\", \"DRIPPING SPRINGS ISD\", \"EANES ISD\", \"GEORGETOWN ISD\", \"HAYS CISD\", \"HUTTO ISD\", \"LAGO VISTA ISD\", \"LAKE TRAVIS ISD\", \"LEANDER ISD\", \"MANOR ISD\", \"PFLUGERVILLE ISD\", \"ROUND ROCK ISD\"], \"y\": [52.0, 98.0, 23.0, 2.0, 36.0, 53.0, 73.0, 8.0, 10.0, 11.0, 54.0, 71.0, 22.0], \"type\": \"bar\", \"uid\": \"a080324b-5c2c-4c68-af98-ec4fab0f90d7\"}, {\"marker\": {\"color\": \"rgba(255, 181, 184, 0.6)\", \"line\": {\"color\": \"rgba(255, 181, 184, 1.0)\", \"width\": 1}}, \"name\": \"('PCT_T1', '2018-2019')\", \"orientation\": \"v\", \"text\": \"\", \"x\": [\"AUSTIN ISD\", \"DEL VALLE ISD\", \"DRIPPING SPRINGS ISD\", \"EANES ISD\", \"GEORGETOWN ISD\", \"HAYS CISD\", \"HUTTO ISD\", \"LAGO VISTA ISD\", \"LAKE TRAVIS ISD\", \"LEANDER ISD\", \"MANOR ISD\", \"PFLUGERVILLE ISD\", \"ROUND ROCK ISD\"], \"y\": [50.0, 98.0, 23.0, 2.0, 35.0, 52.0, 63.0, 7.0, 11.0, 19.0, 52.0, 74.0, 22.0], \"type\": \"bar\", \"uid\": \"f8d1c49b-d29c-4906-ac51-accab5415983\"}], {\"legend\": {\"bgcolor\": \"#FFFFFF\", \"font\": {\"color\": \"#666666\"}}, \"paper_bgcolor\": \"#FFFFFF\", \"plot_bgcolor\": \"#E5E5E5\", \"title\": {\"text\": \"Autin Area ISDs Title 1 Pecent Status\", \"font\": {\"color\": \"#151516\"}}, \"xaxis\": {\"gridcolor\": \"#F6F6F6\", \"showgrid\": true, \"tickfont\": {\"color\": \"#666666\"}, \"title\": {\"text\": \"\", \"font\": {\"color\": \"#666666\"}}, \"zerolinecolor\": \"#F6F6F6\"}, \"yaxis\": {\"gridcolor\": \"#F6F6F6\", \"showgrid\": true, \"tickfont\": {\"color\": \"#666666\"}, \"title\": {\"text\": \"\", \"font\": {\"color\": \"#666666\"}}, \"zerolinecolor\": \"#F6F6F6\"}}, {\"showLink\": true, \"linkText\": \"Export to plot.ly\", \"plotlyServerURL\": \"https://plot.ly\"})});</script><script type=\"text/javascript\">window.addEventListener(\"resize\", function(){window._Plotly.Plots.resize(document.getElementById(\"d86515c9-dc25-45c4-927d-5f1ec9697db5\"));});</script>"
      ],
      "text/vnd.plotly.v1+html": [
       "<div id=\"d86515c9-dc25-45c4-927d-5f1ec9697db5\" style=\"height: 525px; width: 100%;\" class=\"plotly-graph-div\"></div><script type=\"text/javascript\">require([\"plotly\"], function(Plotly) { window.PLOTLYENV=window.PLOTLYENV || {};window.PLOTLYENV.BASE_URL=\"https://plot.ly\";Plotly.newPlot(\"d86515c9-dc25-45c4-927d-5f1ec9697db5\", [{\"marker\": {\"color\": \"rgba(226, 74, 51, 0.6)\", \"line\": {\"color\": \"rgba(226, 74, 51, 1.0)\", \"width\": 1}}, \"name\": \"('PCT_T1', '2012-2013')\", \"orientation\": \"v\", \"text\": \"\", \"x\": [\"AUSTIN ISD\", \"DEL VALLE ISD\", \"DRIPPING SPRINGS ISD\", \"EANES ISD\", \"GEORGETOWN ISD\", \"HAYS CISD\", \"HUTTO ISD\", \"LAGO VISTA ISD\", \"LAKE TRAVIS ISD\", \"LEANDER ISD\", \"MANOR ISD\", \"PFLUGERVILLE ISD\", \"ROUND ROCK ISD\"], \"y\": [50.0, 75.0, 33.0, 1.0, 53.0, 55.0, 53.0, 6.0, 14.0, 8.0, 57.0, 54.0, 19.0], \"type\": \"bar\", \"uid\": \"b939456e-be4c-4474-820f-94e0bb43881d\"}, {\"marker\": {\"color\": \"rgba(62, 111, 176, 0.6)\", \"line\": {\"color\": \"rgba(62, 111, 176, 1.0)\", \"width\": 1}}, \"name\": \"('PCT_T1', '2013-2014')\", \"orientation\": \"v\", \"text\": \"\", \"x\": [\"AUSTIN ISD\", \"DEL VALLE ISD\", \"DRIPPING SPRINGS ISD\", \"EANES ISD\", \"GEORGETOWN ISD\", \"HAYS CISD\", \"HUTTO ISD\", \"LAGO VISTA ISD\", \"LAKE TRAVIS ISD\", \"LEANDER ISD\", \"MANOR ISD\", \"PFLUGERVILLE ISD\", \"ROUND ROCK ISD\"], \"y\": [49.0, 75.0, 33.0, 1.0, 32.0, 54.0, 74.0, 7.0, 4.0, 8.0, 57.0, 54.0, 20.0], \"type\": \"bar\", \"uid\": \"6cd81572-ed64-44fd-857a-48340aabe0f3\"}, {\"marker\": {\"color\": \"rgba(132, 118, 202, 0.6)\", \"line\": {\"color\": \"rgba(132, 118, 202, 1.0)\", \"width\": 1}}, \"name\": \"('PCT_T1', '2014-2015')\", \"orientation\": \"v\", \"text\": \"\", \"x\": [\"AUSTIN ISD\", \"DEL VALLE ISD\", \"DRIPPING SPRINGS ISD\", \"EANES ISD\", \"GEORGETOWN ISD\", \"HAYS CISD\", \"HUTTO ISD\", \"LAGO VISTA ISD\", \"LAKE TRAVIS ISD\", \"LEANDER ISD\", \"MANOR ISD\", \"PFLUGERVILLE ISD\", \"ROUND ROCK ISD\"], \"y\": [48.0, 8.0, 33.0, 2.0, 32.0, 57.0, 73.0, 6.0, 12.0, 8.0, 56.0, 63.0, 24.0], \"type\": \"bar\", \"uid\": \"9019b85c-4278-4c17-a4e7-d947e0930507\"}, {\"marker\": {\"color\": \"rgba(101, 101, 101, 0.6)\", \"line\": {\"color\": \"rgba(101, 101, 101, 1.0)\", \"width\": 1}}, \"name\": \"('PCT_T1', '2015-2016')\", \"orientation\": \"v\", \"text\": \"\", \"x\": [\"AUSTIN ISD\", \"DEL VALLE ISD\", \"DRIPPING SPRINGS ISD\", \"EANES ISD\", \"GEORGETOWN ISD\", \"HAYS CISD\", \"HUTTO ISD\", \"LAGO VISTA ISD\", \"LAKE TRAVIS ISD\", \"LEANDER ISD\", \"MANOR ISD\", \"PFLUGERVILLE ISD\", \"ROUND ROCK ISD\"], \"y\": [54.0, 98.0, 32.0, 1.0, 31.0, 56.0, 73.0, 5.0, 12.0, 11.0, 56.0, 62.0, 24.0], \"type\": \"bar\", \"uid\": \"59f30afa-5424-482f-be61-6ad40fe6d933\"}, {\"marker\": {\"color\": \"rgba(251, 193, 94, 0.6)\", \"line\": {\"color\": \"rgba(251, 193, 94, 1.0)\", \"width\": 1}}, \"name\": \"('PCT_T1', '2016-2017')\", \"orientation\": \"v\", \"text\": \"\", \"x\": [\"AUSTIN ISD\", \"DEL VALLE ISD\", \"DRIPPING SPRINGS ISD\", \"EANES ISD\", \"GEORGETOWN ISD\", \"HAYS CISD\", \"HUTTO ISD\", \"LAGO VISTA ISD\", \"LAKE TRAVIS ISD\", \"LEANDER ISD\", \"MANOR ISD\", \"PFLUGERVILLE ISD\", \"ROUND ROCK ISD\"], \"y\": [53.0, 99.0, 31.0, 2.0, 20.0, 50.0, 73.0, 6.0, 11.0, 11.0, 55.0, 71.0, 21.0], \"type\": \"bar\", \"uid\": \"608075a2-883c-4729-a955-325a916cc958\"}, {\"marker\": {\"color\": \"rgba(142, 186, 66, 0.6)\", \"line\": {\"color\": \"rgba(142, 186, 66, 1.0)\", \"width\": 1}}, \"name\": \"('PCT_T1', '2017-2018')\", \"orientation\": \"v\", \"text\": \"\", \"x\": [\"AUSTIN ISD\", \"DEL VALLE ISD\", \"DRIPPING SPRINGS ISD\", \"EANES ISD\", \"GEORGETOWN ISD\", \"HAYS CISD\", \"HUTTO ISD\", \"LAGO VISTA ISD\", \"LAKE TRAVIS ISD\", \"LEANDER ISD\", \"MANOR ISD\", \"PFLUGERVILLE ISD\", \"ROUND ROCK ISD\"], \"y\": [52.0, 98.0, 23.0, 2.0, 36.0, 53.0, 73.0, 8.0, 10.0, 11.0, 54.0, 71.0, 22.0], \"type\": \"bar\", \"uid\": \"a080324b-5c2c-4c68-af98-ec4fab0f90d7\"}, {\"marker\": {\"color\": \"rgba(255, 181, 184, 0.6)\", \"line\": {\"color\": \"rgba(255, 181, 184, 1.0)\", \"width\": 1}}, \"name\": \"('PCT_T1', '2018-2019')\", \"orientation\": \"v\", \"text\": \"\", \"x\": [\"AUSTIN ISD\", \"DEL VALLE ISD\", \"DRIPPING SPRINGS ISD\", \"EANES ISD\", \"GEORGETOWN ISD\", \"HAYS CISD\", \"HUTTO ISD\", \"LAGO VISTA ISD\", \"LAKE TRAVIS ISD\", \"LEANDER ISD\", \"MANOR ISD\", \"PFLUGERVILLE ISD\", \"ROUND ROCK ISD\"], \"y\": [50.0, 98.0, 23.0, 2.0, 35.0, 52.0, 63.0, 7.0, 11.0, 19.0, 52.0, 74.0, 22.0], \"type\": \"bar\", \"uid\": \"f8d1c49b-d29c-4906-ac51-accab5415983\"}], {\"legend\": {\"bgcolor\": \"#FFFFFF\", \"font\": {\"color\": \"#666666\"}}, \"paper_bgcolor\": \"#FFFFFF\", \"plot_bgcolor\": \"#E5E5E5\", \"title\": {\"text\": \"Autin Area ISDs Title 1 Pecent Status\", \"font\": {\"color\": \"#151516\"}}, \"xaxis\": {\"gridcolor\": \"#F6F6F6\", \"showgrid\": true, \"tickfont\": {\"color\": \"#666666\"}, \"title\": {\"text\": \"\", \"font\": {\"color\": \"#666666\"}}, \"zerolinecolor\": \"#F6F6F6\"}, \"yaxis\": {\"gridcolor\": \"#F6F6F6\", \"showgrid\": true, \"tickfont\": {\"color\": \"#666666\"}, \"title\": {\"text\": \"\", \"font\": {\"color\": \"#666666\"}}, \"zerolinecolor\": \"#F6F6F6\"}}, {\"showLink\": true, \"linkText\": \"Export to plot.ly\", \"plotlyServerURL\": \"https://plot.ly\"})});</script><script type=\"text/javascript\">window.addEventListener(\"resize\", function(){window._Plotly.Plots.resize(document.getElementById(\"d86515c9-dc25-45c4-927d-5f1ec9697db5\"));});</script>"
      ]
     },
     "metadata": {},
     "output_type": "display_data"
    }
   ],
   "source": [
    "t1_pct_pivot = t1_pct_plot.pivot(index='DISTRICT NAME', columns='YEAR')\n",
    "cf.set_config_file(offline=True, world_readable=False, theme='ggplot')\n",
    "t1_pct_pivot.iplot(kind='bar',title='Autin Area ISDs Title 1 Pecent Status')"
   ]
  },
  {
   "cell_type": "code",
   "execution_count": null,
   "metadata": {
    "collapsed": true
   },
   "outputs": [],
   "source": []
  }
 ],
 "metadata": {
  "kernelspec": {
   "display_name": "Python [conda env:PythonData]",
   "language": "python",
   "name": "pythondata"
  },
  "language_info": {
   "codemirror_mode": {
    "name": "ipython",
    "version": 3
   },
   "file_extension": ".py",
   "mimetype": "text/x-python",
   "name": "python",
   "nbconvert_exporter": "python",
   "pygments_lexer": "ipython3",
   "version": "3.6.8"
  }
 },
 "nbformat": 4,
 "nbformat_minor": 2
}
